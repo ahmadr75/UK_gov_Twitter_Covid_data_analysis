{
  "nbformat": 4,
  "nbformat_minor": 0,
  "metadata": {
    "colab": {
      "name": "Data_Science_Seminar2021.ipynb",
      "provenance": [],
      "collapsed_sections": [],
      "mount_file_id": "15V-O0um5pWmR-AH_tHbDDMRacE1udjtT",
      "authorship_tag": "ABX9TyO1e1QkLYBhrjEGpyvnDPTF",
      "include_colab_link": true
    },
    "kernelspec": {
      "display_name": "Python 3",
      "name": "python3"
    },
    "language_info": {
      "name": "python"
    }
  },
  "cells": [
    {
      "cell_type": "markdown",
      "metadata": {
        "id": "view-in-github",
        "colab_type": "text"
      },
      "source": [
        "<a href=\"https://colab.research.google.com/github/ahmadr75/UK_gov_Twitter_Covid_data_analysis/blob/main/Data_Science_Seminar2021.ipynb\" target=\"_parent\"><img src=\"https://colab.research.google.com/assets/colab-badge.svg\" alt=\"Open In Colab\"/></a>"
      ]
    },
    {
      "cell_type": "markdown",
      "metadata": {
        "id": "3B3tMuVY5hw1"
      },
      "source": [
        "#Initialisation"
      ]
    },
    {
      "cell_type": "code",
      "metadata": {
        "colab": {
          "base_uri": "https://localhost:8080/"
        },
        "id": "lGeQxG581hAR",
        "outputId": "a511444b-a414-42b3-f4f3-7872bceaa5c6"
      },
      "source": [
        "import os\n",
        "import numpy as np\n",
        "import pandas as pd\n",
        "from pandas import DataFrame\n",
        "import matplotlib.pyplot as plt\n",
        "## credentials contain:\n",
        "consumer_key        = \"5aKJhd985bBGzuTmd6ubtWYgA\"\n",
        "consumer_secret     = \"dPHCv1Noj0udVF646wrqBBnCW0eDibpf1LD3D8QDwx1E3MqZMC\"\n",
        "access_token        = \"1177062871-9bF1WqV2AS9fjXd5tY9xx0JV4j8xRj9q4I5KkPU\"\n",
        "access_token_secret = \"quH3ogy2PpRd5dOIro96eLGB3CSBirmjJZ3IniY9bmRfy\"\n",
        "\n",
        "import tweepy\n",
        "print(tweepy.__version__)\n",
        "\n",
        "# Authorize our Twitter credentials\n",
        "auth = tweepy.OAuthHandler(consumer_key, consumer_secret)\n",
        "auth.set_access_token(access_token, access_token_secret)\n",
        "api = tweepy.API(auth)\n",
        "\n",
        "#Work directory\n",
        "Work_dir = \"/content/drive/MyDrive/DS UK gov/\"\n"
      ],
      "execution_count": null,
      "outputs": [
        {
          "output_type": "stream",
          "name": "stdout",
          "text": [
            "3.10.0\n"
          ]
        }
      ]
    },
    {
      "cell_type": "markdown",
      "metadata": {
        "id": "_Ji-gU1-5kxR"
      },
      "source": [
        "#Automated *Users* Seeking"
      ]
    },
    {
      "cell_type": "code",
      "metadata": {
        "colab": {
          "base_uri": "https://localhost:8080/"
        },
        "id": "HE5MQ5_I5gJl",
        "outputId": "7096df03-7e0d-41dd-e28d-757bfb953468"
      },
      "source": [
        "Tweet_id_file = open(Work_dir+\"TweetID_Gen_Auto.csv\", \"a\")\n",
        "current_file = open(Work_dir+\"TweetID_Gen_Auto.csv\", \"r\")\n",
        "First_time = False # Should be True for the first time search operation\n",
        "\n",
        "# List of potential keywords leading to official accounts of subject under scrutiny\n",
        "# transport, Health, NHS, gov, covid, corona, minister\n",
        "\n",
        "# List of locations\n",
        "# uk, wales, scotland, nothern-ireland, England, london, Birmingham, glasgow, liverpool, bristol, manchester, sheffield, leeds,\n",
        "\n",
        "# the query to be searched > a combination of location and keyword from above\n",
        "q = \"leeds health\"\n",
        "\n",
        "current_file.readline()\n",
        "id_lists = list()\n",
        "if First_time is False:\n",
        "  for item in current_file.readlines():\n",
        "    id_lists.append(int(item.split(', ')[2]))\n",
        "else:\n",
        "  Tweet_id_file.write(\"screen_name\" + \", \" + \"location\" + \", \" + \"id\" + \", \" + \"followers_count\" + \", \" + \"freinds_count\" + \", \" + \"favourites_count, Description\\n\")\n",
        "\n",
        "# search the query\n",
        "users = api.search_users(q, 200)\n",
        "\n",
        "# save user information of the users retrieved\n",
        "for user in users:\n",
        "    user_retreive = api.get_user(user.screen_name)\n",
        "    if user_retreive.verified == True: #Check whether the user is officially verified within tweeter\n",
        "        print(user_retreive.id)\n",
        "        if user_retreive.id not in id_lists:\n",
        "          Tweet_id_file.write(user.screen_name + \", \" + str(user_retreive.location.replace(\",\", \"-\")) + \", \" + str(user_retreive.id) + \", \" + str(user_retreive.followers_count) + \", \" + str(user_retreive.friends_count) + \", \" + str(user_retreive.favourites_count)+ \", \" + user_retreive.description.replace(\",\", \"-\").replace(\"\\n\", \"-\") + \"\\n\")\n",
        "        #print(user_retreive.screen_name)#ID \n",
        "\n",
        "Tweet_id_file.close()\n",
        "current_file.close()\n",
        "\n",
        "#Results are further cleaned and search for target accounts"
      ],
      "execution_count": null,
      "outputs": [
        {
          "output_type": "stream",
          "text": [
            "338260834\n",
            "58490193\n",
            "109237832\n"
          ],
          "name": "stdout"
        }
      ]
    },
    {
      "cell_type": "markdown",
      "metadata": {
        "id": "pN7nKdyqYCl1"
      },
      "source": [
        "#User Info"
      ]
    },
    {
      "cell_type": "code",
      "metadata": {
        "id": "JDCD3p4v6ifd"
      },
      "source": [
        "userID = \"NHSEnglandLDN\""
      ],
      "execution_count": null,
      "outputs": []
    },
    {
      "cell_type": "code",
      "metadata": {
        "id": "KgIIeONI62jD"
      },
      "source": [
        "tweets = api.user_timeline(screen_name=userID, \n",
        "                           # 200 is the maximum allowed count\n",
        "                           count=200,\n",
        "                           include_rts = False,\n",
        "                           # Necessary to keep full_text \n",
        "                           # otherwise only the first 140 words are extracted\n",
        "                           tweet_mode = 'extended'\n",
        "                           )"
      ],
      "execution_count": null,
      "outputs": []
    },
    {
      "cell_type": "markdown",
      "metadata": {
        "id": "GjWkQTDDQdIX"
      },
      "source": [
        "#Verified ID Parser:"
      ]
    },
    {
      "cell_type": "code",
      "metadata": {
        "id": "rGbjpE_pCn46",
        "colab": {
          "base_uri": "https://localhost:8080/"
        },
        "outputId": "7138d838-875e-4ca5-9688-592a9a0c7324"
      },
      "source": [
        "Tweet = api.get_user(userID)\n",
        "Tweet.id, Tweet.verified # Outputs the username and the whether it is verfied or not (using a tweet)"
      ],
      "execution_count": null,
      "outputs": [
        {
          "output_type": "execute_result",
          "data": {
            "text/plain": [
              "(31129844, True)"
            ]
          },
          "metadata": {},
          "execution_count": 10
        }
      ]
    },
    {
      "cell_type": "code",
      "metadata": {
        "colab": {
          "base_uri": "https://localhost:8080/"
        },
        "id": "aIYsmHYd64vE",
        "outputId": "25459fcb-5d90-4a2b-ada5-bfb546550153"
      },
      "source": [
        "# Output information of a tweet\n",
        "for info in tweets[:1]:\n",
        "     print(\"ID: {}\".format(info.id))\n",
        "     print(info.created_at)\n",
        "     print(info.full_text)\n",
        "     print(\"\\n\")"
      ],
      "execution_count": null,
      "outputs": [
        {
          "output_type": "stream",
          "text": [
            "ID: 1429352707329077248\n",
            "2021-08-22 08:00:16\n",
            "Looking for somewhere to get your #COVIDVaccine in the capital today? 👀💉\n",
            "\n",
            "Check your local area’s pop-up and walk-in vaccination sites  ➡️ https://t.co/NKzeK4mb01 https://t.co/vTOdkzlw9A\n",
            "\n",
            "\n"
          ],
          "name": "stdout"
        }
      ]
    },
    {
      "cell_type": "markdown",
      "metadata": {
        "id": "4RkyxZpqbv4U"
      },
      "source": [
        "#Extraction of information from specified user\n"
      ]
    },
    {
      "cell_type": "code",
      "metadata": {
        "id": "W431t3PkeSUw"
      },
      "source": [
        "def Tweet_extractor(userID):\n",
        "  tweets = api.user_timeline(screen_name=userID, \n",
        "                             # 200 is the maximum allowed count\n",
        "                             count=200,\n",
        "                             include_rts = False,\n",
        "                             # Necessary to keep full_text \n",
        "                             # otherwise only the first 140 words are extracted\n",
        "                             tweet_mode = 'extended'\n",
        "                             )\n",
        "  all_tweets = []\n",
        "  all_tweets.extend(tweets)\n",
        "  oldest_id = tweets[-1].id\n",
        "  while True:\n",
        "    tweets = api.user_timeline(screen_name=userID, \n",
        "                               # 200 is the maximum allowed count\n",
        "                               count=200,\n",
        "                               include_rts = False,\n",
        "                               max_id = oldest_id - 1,\n",
        "                               # Necessary to keep full_text \n",
        "                               # otherwise only the first 140 words are extracted\n",
        "                               tweet_mode = 'extended'\n",
        "                               )\n",
        "    if len(tweets) == 0:\n",
        "      break\n",
        "    oldest_id = tweets[-1].id\n",
        "    all_tweets.extend(tweets)\n",
        "    print('N of tweets downloaded till now {}'.format(len(all_tweets)))\n",
        "\n",
        "  outtweets = [[tweet.id_str, \n",
        "                tweet.created_at, \n",
        "                tweet.favorite_count, \n",
        "                tweet.retweet_count, \n",
        "                tweet.full_text.encode(\"utf-8\").decode(\"utf-8\")] \n",
        "              for idx,tweet in enumerate(all_tweets)]\n",
        "  return outtweets"
      ],
      "execution_count": null,
      "outputs": []
    },
    {
      "cell_type": "code",
      "metadata": {
        "colab": {
          "base_uri": "https://localhost:8080/",
          "height": 158
        },
        "id": "C67xji0-7SGk",
        "outputId": "3749ae5d-0880-4f3d-d0ef-54f09174c61e"
      },
      "source": [
        "# Please enter your desired user id\n",
        "userID = \"matthancock\"\n",
        "\n",
        "outtweets = Tweet_extractor(userID)\n",
        "\n",
        "# Creation of dataframe object and saving the file in work directory\n",
        "df = DataFrame(outtweets,columns=[\"id\",\"created_at\",\"favorite_count\",\"retweet_count\", \"text\"]) \n",
        "df.to_csv('%s_tweets.csv' % userID,index=False)\n",
        "df.head(3)\n",
        "!cp /content/matthancock_tweets.csv /content/drive/MyDrive/DS\\ UK\\ gov/DA_Raw_DB"
      ],
      "execution_count": null,
      "outputs": [
        {
          "output_type": "stream",
          "text": [
            "N of tweets downloaded till now 13\n"
          ],
          "name": "stdout"
        },
        {
          "output_type": "execute_result",
          "data": {
            "text/html": [
              "<div>\n",
              "<style scoped>\n",
              "    .dataframe tbody tr th:only-of-type {\n",
              "        vertical-align: middle;\n",
              "    }\n",
              "\n",
              "    .dataframe tbody tr th {\n",
              "        vertical-align: top;\n",
              "    }\n",
              "\n",
              "    .dataframe thead th {\n",
              "        text-align: right;\n",
              "    }\n",
              "</style>\n",
              "<table border=\"1\" class=\"dataframe\">\n",
              "  <thead>\n",
              "    <tr style=\"text-align: right;\">\n",
              "      <th></th>\n",
              "      <th>id</th>\n",
              "      <th>created_at</th>\n",
              "      <th>favorite_count</th>\n",
              "      <th>retweet_count</th>\n",
              "      <th>text</th>\n",
              "    </tr>\n",
              "  </thead>\n",
              "  <tbody>\n",
              "    <tr>\n",
              "      <th>0</th>\n",
              "      <td>1372115555692462082</td>\n",
              "      <td>2021-03-17 09:20:15</td>\n",
              "      <td>0</td>\n",
              "      <td>0</td>\n",
              "      <td>@master_deutsche خيلي لطف داري، اگه برام بفرست...</td>\n",
              "    </tr>\n",
              "    <tr>\n",
              "      <th>1</th>\n",
              "      <td>1371883513926983683</td>\n",
              "      <td>2021-03-16 17:58:12</td>\n",
              "      <td>1</td>\n",
              "      <td>0</td>\n",
              "      <td>Can anyone send me #clubhouseinvite?</td>\n",
              "    </tr>\n",
              "    <tr>\n",
              "      <th>2</th>\n",
              "      <td>1367038428475498497</td>\n",
              "      <td>2021-03-03 09:05:34</td>\n",
              "      <td>1</td>\n",
              "      <td>0</td>\n",
              "      <td>@Mariaaaaa_R 😂😂👌👌</td>\n",
              "    </tr>\n",
              "  </tbody>\n",
              "</table>\n",
              "</div>"
            ],
            "text/plain": [
              "                    id  ...                                               text\n",
              "0  1372115555692462082  ...  @master_deutsche خيلي لطف داري، اگه برام بفرست...\n",
              "1  1371883513926983683  ...               Can anyone send me #clubhouseinvite?\n",
              "2  1367038428475498497  ...                                  @Mariaaaaa_R 😂😂👌👌\n",
              "\n",
              "[3 rows x 5 columns]"
            ]
          },
          "metadata": {},
          "execution_count": 14
        }
      ]
    },
    {
      "cell_type": "markdown",
      "metadata": {
        "id": "Y8iINa1ZiZVH"
      },
      "source": [
        "#Check existance of Covid related subject\n",
        "\n",
        "---\n",
        "Also importance of the account under the investigation\n",
        "\n",
        "\n"
      ]
    },
    {
      "cell_type": "code",
      "metadata": {
        "id": "UaF-pIYRhepG",
        "colab": {
          "base_uri": "https://localhost:8080/"
        },
        "outputId": "7ada081a-e7ff-4e2e-ee2f-d02c8153a297"
      },
      "source": [
        "# Take out the text column from the dataset and count the quantities of covid word repeated\n",
        "x_l = df['text']\n",
        "cnt = 0\n",
        "for item in x_l:\n",
        "  if \"covid\" in item or \"corona\" in item:\n",
        "    if '#' in item:\n",
        "      cnt += 1\n",
        "#print out this quantity\n",
        "print(cnt)"
      ],
      "execution_count": null,
      "outputs": [
        {
          "output_type": "stream",
          "text": [
            "0\n"
          ],
          "name": "stdout"
        }
      ]
    },
    {
      "cell_type": "code",
      "metadata": {
        "id": "UhjGUVHbKyFT"
      },
      "source": [
        "# Plot the number of favorites and retweets overal in the account\n",
        "ylabels = [\"favorite_count\",\"retweet_count\"]\n",
        "\n",
        "fig = plt.figure(figsize=(13,3))\n",
        "fig.subplots_adjust(hspace=0.01,wspace=0.01)\n",
        "\n",
        "n_row = len(ylabels)\n",
        "n_col = 1\n",
        "for count, ylabel in enumerate(ylabels):\n",
        "    ax = fig.add_subplot(n_row,n_col,count+1)\n",
        "    ax.plot(df[\"created_at\"],df[ylabel])\n",
        "    ax.set_ylabel(ylabel)\n",
        "plt.show()"
      ],
      "execution_count": null,
      "outputs": []
    },
    {
      "cell_type": "code",
      "metadata": {
        "id": "KYWoLFMnKyd_"
      },
      "source": [
        "# specified tweets with more than some thresholds of favorites and retweets\n",
        "df_sub = df.loc[(df[\"favorite_count\"] > 400) & (df[\"retweet_count\"] > 20),:]\n",
        "for irow in range(df_sub.shape[0]):\n",
        "    df_row = df_sub.iloc[irow,:]\n",
        "    \n",
        "    print(df_row[\"created_at\"])\n",
        "    print(\"favorite_count={:6} retweet_count={:6}\".format(df_row[\"favorite_count\"],df_row[\"retweet_count\"]))\n",
        "    print(df_row[\"text\"])\n",
        "    print(\"\\n\")"
      ],
      "execution_count": null,
      "outputs": []
    },
    {
      "cell_type": "code",
      "metadata": {
        "id": "WC8DV_zb6GKC"
      },
      "source": [
        "page = 1\n",
        "while True:\n",
        "  statuses = api.user_timeline(screen_name=userID)\n",
        "  if statuses:\n",
        "    for status in statuses:\n",
        "      # process status here\n",
        "      print(status)\n",
        "      #process_status(status)\n",
        "  else:\n",
        "    # All done\n",
        "    break\n",
        "  page += 1  # next page"
      ],
      "execution_count": null,
      "outputs": []
    },
    {
      "cell_type": "markdown",
      "metadata": {
        "id": "-QBNy5w2aS6-"
      },
      "source": [
        "# Extract all hashtags in dir\n"
      ]
    },
    {
      "cell_type": "markdown",
      "metadata": {
        "id": "BMYBhm7ponYt"
      },
      "source": [
        "Generates a DB from tweets their ID plus the Hashtags used in total"
      ]
    },
    {
      "cell_type": "code",
      "metadata": {
        "id": "UXVkwYWHaXEB"
      },
      "source": [
        "# specify the database name\n",
        "data_dir = Work_dir + \"DA_Raw_DB\"\n",
        "\n",
        "filter_chars = [';', ':', '!', \"*\", \")\", \"-\", \"\\n\", \"\\\\\", \"|\", \".\", \":\", \"?\", \";\", \",\", \"@\", \"$\", \"%\", \"^\", \"*\", \"(\", \"~\"]\n",
        "\n",
        "Full_gathered_data = list()\n",
        "\n",
        "for name in os.listdir(data_dir):\n",
        "  if name.endswith(\".csv\"):\n",
        "    filee = pd.read_csv(data_dir + \"/\" + name)\n",
        "    Hashtag_list = list()\n",
        "    Valid_date_list = list()\n",
        "    for i in range(filee.shape[0]):\n",
        "      Year = int(filee['created_at'][i][:4])\n",
        "      Month = int(filee['created_at'][i][5:7])\n",
        "      Day = int(filee['created_at'][i][8:10])\n",
        "      if Year == 2020 and Month > 1 and Day > 2:\n",
        "        Valid_date_list.append(i)\n",
        "      if Year == 2021:\n",
        "          #print(\"{}.{}.{}\".format(Year,Month,Day))\n",
        "          if Month < 5:\n",
        "            Valid_date_list.append(i)\n",
        "    for item in Valid_date_list:\n",
        "      tweet_text = filee['text'][item]\n",
        "      if \"#\" in tweet_text:\n",
        "        splitted_text = tweet_text.split(\"#\")\n",
        "        Mined_hashtag = \"\"\n",
        "        for i in range(1,len(splitted_text)):\n",
        "          Mined_hashtag = splitted_text[i].split(\" \")[0]\n",
        "          for it in filter_chars:\n",
        "            Mined_hashtag = Mined_hashtag.split(it)[0]\n",
        "          Hashtag_list.append(Mined_hashtag)\n",
        "    Full_gathered_data.append([name.split(\"_tweets\")[0],Hashtag_list])\n",
        "dff = pd.DataFrame(Full_gathered_data, columns = ['User_name', 'Hashtags'])\n",
        "# dff contains all the hashtags of each account"
      ],
      "execution_count": null,
      "outputs": []
    },
    {
      "cell_type": "markdown",
      "metadata": {
        "id": "wooaM9qTohzV"
      },
      "source": [
        "Hashtag DB with counting"
      ]
    },
    {
      "cell_type": "code",
      "metadata": {
        "id": "L-bp5X5OhQfE"
      },
      "source": [
        "# having a dictionary object used to count the quantities of each hashtag being repeated\n",
        "Counter_dict = {}\n",
        "for item in dff['Hashtags']:\n",
        "  for each in item:\n",
        "    if each not in Counter_dict:\n",
        "      Counter_dict[each] = 1\n",
        "    else:\n",
        "      Counter_dict[each] = Counter_dict[each] + 1"
      ],
      "execution_count": null,
      "outputs": []
    },
    {
      "cell_type": "code",
      "metadata": {
        "id": "edonpaMXkzAN"
      },
      "source": [
        "# save the results as a dataset in the specified directory, with a threshold of being 10 times repeated\n",
        "Hashtag_Final_Count = list()\n",
        "for item in Counter_dict:\n",
        "  if Counter_dict[item] > 10:\n",
        "    Hashtag_Final_Count.append([item,Counter_dict[item]])\n",
        "Hashtag_cnt_data = pd.DataFrame(Hashtag_Final_Count, columns = ['Hashtag_name', 'Count'])\n",
        "Hashtag_cnt_data = Hashtag_cnt_data.sort_values(by=['Count'],ascending=False)\n",
        "Hashtag_cnt_data.to_csv(work_dir + 'Raw_Hashtags_plus_relative_classification/Mined_Hashtag_cnt_02022020_31042021.csv', index=False)"
      ],
      "execution_count": null,
      "outputs": []
    },
    {
      "cell_type": "code",
      "metadata": {
        "colab": {
          "base_uri": "https://localhost:8080/",
          "height": 402
        },
        "id": "3aN0De1KxVDT",
        "outputId": "7e0cff75-cfb8-45fc-fd88-c29e1a523892"
      },
      "source": [
        "Hashtag_cnt_data"
      ],
      "execution_count": null,
      "outputs": [
        {
          "output_type": "execute_result",
          "data": {
            "text/html": [
              "<div>\n",
              "<style scoped>\n",
              "    .dataframe tbody tr th:only-of-type {\n",
              "        vertical-align: middle;\n",
              "    }\n",
              "\n",
              "    .dataframe tbody tr th {\n",
              "        vertical-align: top;\n",
              "    }\n",
              "\n",
              "    .dataframe thead th {\n",
              "        text-align: right;\n",
              "    }\n",
              "</style>\n",
              "<table border=\"1\" class=\"dataframe\">\n",
              "  <thead>\n",
              "    <tr style=\"text-align: right;\">\n",
              "      <th></th>\n",
              "      <th>Hashtag_name</th>\n",
              "      <th>Count</th>\n",
              "    </tr>\n",
              "  </thead>\n",
              "  <tbody>\n",
              "    <tr>\n",
              "      <th>3</th>\n",
              "      <td>COVID19</td>\n",
              "      <td>5125</td>\n",
              "    </tr>\n",
              "    <tr>\n",
              "      <th>6</th>\n",
              "      <td>coronavirus</td>\n",
              "      <td>3092</td>\n",
              "    </tr>\n",
              "    <tr>\n",
              "      <th>52</th>\n",
              "      <td>HouseofLords</td>\n",
              "      <td>1247</td>\n",
              "    </tr>\n",
              "    <tr>\n",
              "      <th>31</th>\n",
              "      <td>Coronavirus</td>\n",
              "      <td>636</td>\n",
              "    </tr>\n",
              "    <tr>\n",
              "      <th>34</th>\n",
              "      <td>StayHomeSaveLives</td>\n",
              "      <td>567</td>\n",
              "    </tr>\n",
              "    <tr>\n",
              "      <th>...</th>\n",
              "      <td>...</td>\n",
              "      <td>...</td>\n",
              "    </tr>\n",
              "    <tr>\n",
              "      <th>69</th>\n",
              "      <td>SettlementScheme</td>\n",
              "      <td>52</td>\n",
              "    </tr>\n",
              "    <tr>\n",
              "      <th>36</th>\n",
              "      <td>NHSCOVIDVaccine</td>\n",
              "      <td>52</td>\n",
              "    </tr>\n",
              "    <tr>\n",
              "      <th>40</th>\n",
              "      <td>Ambulance</td>\n",
              "      <td>52</td>\n",
              "    </tr>\n",
              "    <tr>\n",
              "      <th>73</th>\n",
              "      <td>ScotBudget</td>\n",
              "      <td>51</td>\n",
              "    </tr>\n",
              "    <tr>\n",
              "      <th>55</th>\n",
              "      <td>hiring</td>\n",
              "      <td>51</td>\n",
              "    </tr>\n",
              "  </tbody>\n",
              "</table>\n",
              "<p>98 rows × 2 columns</p>\n",
              "</div>"
            ],
            "text/plain": [
              "         Hashtag_name  Count\n",
              "3             COVID19   5125\n",
              "6         coronavirus   3092\n",
              "52       HouseofLords   1247\n",
              "31        Coronavirus    636\n",
              "34  StayHomeSaveLives    567\n",
              "..                ...    ...\n",
              "69   SettlementScheme     52\n",
              "36    NHSCOVIDVaccine     52\n",
              "40          Ambulance     52\n",
              "73         ScotBudget     51\n",
              "55             hiring     51\n",
              "\n",
              "[98 rows x 2 columns]"
            ]
          },
          "metadata": {
            "tags": []
          },
          "execution_count": 7
        }
      ]
    },
    {
      "cell_type": "markdown",
      "metadata": {
        "id": "IokPfx2W5phN"
      },
      "source": [
        "# Extract based on key words and hashtags\n",
        "\n",
        "\n",
        "---\n",
        "\n",
        "After the analysis we created several datasets based on the hashtags that were repeated more and our specified keywords.\n",
        "\n",
        "The results form two datasets which are used in our project."
      ]
    },
    {
      "cell_type": "code",
      "metadata": {
        "id": "tElamcPijHHz"
      },
      "source": [
        "def Search_based_on_hashtags_keywords(input_list, data_dir, dff_type=True):\n",
        "  if dff_type is True:\n",
        "    dff = pd.DataFrame(columns = ['User_name', 'Hashtag', 'id', 'created_at', 'favorite_count', 'retweet_count', 'text'])\n",
        "  else:\n",
        "    dff = pd.DataFrame(columns = ['User_name', 'Hashtag', 'id', 'created_at'])\n",
        "  Full_gathered_data = list()\n",
        "  cnter = 0\n",
        "  List_per_keyword = list()\n",
        "  Arr_hld = np.array((7,), dtype=str)\n",
        "  for name in os.listdir(data_dir):\n",
        "    if name.endswith(\".csv\"):\n",
        "      filee = pd.read_csv(data_dir + \"/\" + name)\n",
        "      Hashtag_list = list()\n",
        "      Valid_date_list = list()\n",
        "      for i in range(filee.shape[0]):\n",
        "        Year = int(filee['created_at'][i][:4])\n",
        "        Month = int(filee['created_at'][i][5:7])\n",
        "        Day = int(filee['created_at'][i][8:10])\n",
        "        if Year == 2020:\n",
        "          if Month == 2 and Day > 2:\n",
        "            Valid_date_list.append(i)\n",
        "          elif Month > 2:\n",
        "            Valid_date_list.append(i)\n",
        "        if Year == 2021:\n",
        "            if Month < 5:\n",
        "              Valid_date_list.append(i)\n",
        "      for item in Valid_date_list:\n",
        "        tweet_text = filee['text'][item]\n",
        "        for key_w in Hashtags_under_search:\n",
        "          for it in tweet_text.split(\" \"):\n",
        "            if key_w == it:\n",
        "              if dff_type is True:\n",
        "                dat = name.split(\"_tweets\")[0], key_w.split(\"#\")[1], filee['id'][item],\tfilee['created_at'][item], filee['favorite_count'][item],\tfilee['retweet_count'][item],\tfilee['text'][item]\n",
        "              else:\n",
        "                dat = name.split(\"_tweets\")[0], key_w, filee['id'][item],\tfilee['created_at'][item]\n",
        "              dff.loc[cnter] = dat\n",
        "              cnter += 1\n",
        "  return dff\n",
        "\n",
        "# the function takes the list and workspace raw db dir to produce a dataset based on our search items (which can be keywords or hashtags)\n",
        "# dff_type shows the structure in which we want to have the output dataset\n",
        "data_dir = Work_dir + \"DA_Raw_DB\"\n",
        "\n",
        "Hashtags_under_search = ['#COVID19', '#coronavirus', '#HouseofLords', '#Coronavirus', \n",
        "                         '#StayHomeSaveLives', '#LordsQs', '#KeepWalesSafe', \n",
        "                         '#COVIDー19', '#StayAlert', '#OurNHSPeople', '#Covid19', \n",
        "                         '#PMQs', '#HelpUsHelpYou', '#vaccine', '#COVIDVaccine', \n",
        "                         '#ThankYouNHS', '#EveryMindMatters', '#HereForYou', \n",
        "                         '#COVID', '#NHS', '#ClinicalResearch', '#BackToSchoolSafely', \n",
        "                         '#TravelSafely', '#LetsTalkLoneliness', '#flu', \n",
        "                         '#CovidVaccine', '#HandsFaceSpace', '#HowAreYouDoing', '#YouAreNotAlone', \n",
        "                         '#EnjoySummerSafely', '#covid19', '#ResearchVsCovid', \n",
        "                         '#OxfordVaccine', '#MentalHealth', '#howareyoudoing', \n",
        "                         '#WelshQs', '#WorkingSafely', '#StayHome', \n",
        "                         '#StayAtHome', '#FMQs', '#InThisTogether', '#PHEHealthMatters', \n",
        "                         '#ICYMI', '#StaySafe', '#YellowCard', '#WeAreScotland', \n",
        "                         '#RECOVERYtrial', '#COVID19LessonsLearnt', \n",
        "                         '#PriorityCovidResearch', '#NHSCOVIDVaccine', \n",
        "                         '#VaccinesWork', '#BePartofResearch', '#mentalhealth', \n",
        "                         '#PublicHealth', '#BuildBackBetter', \n",
        "                         '#WorldMentalHealthDay', \"#SafeOnline\", \"#vaccines\"]\n",
        "\n",
        "dff = Search_based_on_hashtags_keywords(data_dir, Hashtags_under_search)"
      ],
      "execution_count": null,
      "outputs": []
    },
    {
      "cell_type": "code",
      "metadata": {
        "id": "Amw2RF3ZFxo6"
      },
      "source": [
        "# save the dataset in our desired location\n",
        "dff.to_csv('/content/drive/MyDrive/DS UK gov/Specified_hashtag_n_keyword_search/Hashtags_per_user_plusinfo_02022020_31042021.csv', index=False)"
      ],
      "execution_count": null,
      "outputs": []
    },
    {
      "cell_type": "markdown",
      "metadata": {
        "id": "9r2nntFPMbkQ"
      },
      "source": [
        "# Time relative to keyword or hashtag"
      ]
    },
    {
      "cell_type": "code",
      "metadata": {
        "id": "9yeO0lM1g2kP"
      },
      "source": [
        "Hashtags_under_search = ['#COVID19', '#coronavirus', '#HouseofLords', '#Coronavirus', \n",
        "                         '#StayHomeSaveLives', '#LordsQs', '#KeepWalesSafe', \n",
        "                         '#COVIDー19', '#StayAlert', '#OurNHSPeople', '#Covid19', \n",
        "                         '#PMQs', '#HelpUsHelpYou', '#vaccine', '#COVIDVaccine', \n",
        "                         '#ThankYouNHS', '#EveryMindMatters', '#HereForYou', \n",
        "                         '#COVID', '#NHS', '#ClinicalResearch', '#BackToSchoolSafely', \n",
        "                         '#TravelSafely', '#LetsTalkLoneliness', '#flu', \n",
        "                         '#CovidVaccine', '#HandsFaceSpace', '#HowAreYouDoing', '#YouAreNotAlone', \n",
        "                         '#EnjoySummerSafely', '#covid19', '#ResearchVsCovid', \n",
        "                         '#OxfordVaccine', '#MentalHealth', '#howareyoudoing', \n",
        "                         '#WelshQs', '#WorkingSafely', '#StayHome', \n",
        "                         '#StayAtHome', '#FMQs', '#InThisTogether', '#PHEHealthMatters', \n",
        "                         '#ICYMI', '#StaySafe', '#YellowCard', '#WeAreScotland', \n",
        "                         '#RECOVERYtrial', '#COVID19LessonsLearnt', \n",
        "                         '#PriorityCovidResearch', '#NHSCOVIDVaccine', \n",
        "                         '#VaccinesWork', '#BePartofResearch', '#mentalhealth', \n",
        "                         '#PublicHealth', '#BuildBackBetter', \n",
        "                         '#WorldMentalHealthDay', \"#SafeOnline\", \"#vaccines\"]"
      ],
      "execution_count": null,
      "outputs": []
    },
    {
      "cell_type": "code",
      "metadata": {
        "id": "aRYfe_fBMleq"
      },
      "source": [
        "# data_dir =\"/content/drive/MyDrive/DS UK gov/DA_Raw_DB\"\n",
        "\n",
        "# Hashtags_under_search = ['#vaccine', '#COVIDVaccine', '#CovidVaccine', \n",
        "#                          '#OxfordVaccine', '#NHSCOVIDVaccine', \n",
        "#                          '#VaccinesWork', '#vaccines']\n",
        "# #Hashtags_under_search = ['Vaccine', 'vaccine', 'Vaccination', 'vaccination', 'vaccinated', 'coronavaccine', 'covidvaccine',\n",
        "# #                         'immunization', 'immunisation', 'immunize', 'immunise']\n",
        "# dff = pd.DataFrame(columns = ['User_name', 'Hashtag', 'id', 'created_at'])\n",
        "# Full_gathered_data = list()\n",
        "# cnter = 0\n",
        "# List_per_keyword = list()\n",
        "# Arr_hld = np.array((7,), dtype=str)\n",
        "# for name in os.listdir(data_dir):\n",
        "#   if name.endswith(\".csv\"):\n",
        "#     filee = pd.read_csv(data_dir + \"/\" + name)\n",
        "#     Hashtag_list = list()\n",
        "#     Valid_date_list = list()\n",
        "#     for i in range(filee.shape[0]):\n",
        "#       Year = int(filee['created_at'][i][:4])\n",
        "#       Month = int(filee['created_at'][i][5:7])\n",
        "#       Day = int(filee['created_at'][i][8:10])\n",
        "#       if Year == 2020:\n",
        "#         if Month == 2 and Day > 2:\n",
        "#           Valid_date_list.append(i)\n",
        "#         elif Month > 2:\n",
        "#           Valid_date_list.append(i)\n",
        "#       if Year == 2021:\n",
        "#           if Month < 5:\n",
        "#             Valid_date_list.append(i)\n",
        "#     for item in Valid_date_list:\n",
        "#       tweet_text = filee['text'][item]\n",
        "#       for key_w in Hashtags_under_search:\n",
        "#         for it in tweet_text.split(\" \"):\n",
        "#           if key_w == it:\n",
        "#             dat = name.split(\"_tweets\")[0], key_w.split(\"#\")[1], filee['id'][item],\tfilee['created_at'][item], filee['favorite_count'][item],\tfilee['retweet_count'][item],\tfilee['text'][item]\n",
        "#             dff.loc[cnter] = dat\n",
        "#             cnter += 1"
      ],
      "execution_count": null,
      "outputs": []
    },
    {
      "cell_type": "code",
      "metadata": {
        "id": "6KQ8b5ZzJK3E"
      },
      "source": [
        "# dff.to_csv('/content/drive/MyDrive/DS UK gov/Specified_hashtag_n_keyword_search/Vaccination_Hashtags_for_user_plustime_02022020_31042021.csv', index=False)"
      ],
      "execution_count": null,
      "outputs": []
    },
    {
      "cell_type": "code",
      "metadata": {
        "id": "usJj0CWdPfgC"
      },
      "source": [
        "# data_dir =\"/content/drive/MyDrive/DS UK gov/DA_Raw_DB\"\n",
        "\n",
        "# Hashtags_under_search = ['#COVID19', '#coronavirus', '#HouseofLords', '#Coronavirus', \n",
        "#                          '#StayHomeSaveLives', '#LordsQs', '#KeepWalesSafe', \n",
        "#                          '#COVIDー19', '#StayAlert', '#OurNHSPeople', '#Covid19', \n",
        "#                          '#PMQs', '#HelpUsHelpYou', '#vaccine', '#COVIDVaccine', \n",
        "#                          '#ThankYouNHS', '#EveryMindMatters', '#HereForYou', \n",
        "#                          '#COVID', '#NHS', '#ClinicalResearch', '#BackToSchoolSafely', \n",
        "#                          '#TravelSafely', '#LetsTalkLoneliness', '#flu', \n",
        "#                          '#CovidVaccine', '#HandsFaceSpace', '#HowAreYouDoing', '#YouAreNotAlone', \n",
        "#                          '#EnjoySummerSafely', '#covid19', '#ResearchVsCovid', \n",
        "#                          '#OxfordVaccine', '#MentalHealth', '#howareyoudoing', \n",
        "#                          '#WelshQs', '#WorkingSafely', '#StayHome', \n",
        "#                          '#StayAtHome', '#FMQs', '#InThisTogether', '#PHEHealthMatters', \n",
        "#                          '#ICYMI', '#StaySafe', '#YellowCard', '#WeAreScotland', \n",
        "#                          '#RECOVERYtrial', '#COVID19LessonsLearnt', \n",
        "#                          '#PriorityCovidResearch', '#NHSCOVIDVaccine', \n",
        "#                          '#VaccinesWork', '#BePartofResearch', '#mentalhealth', \n",
        "#                          '#PublicHealth', '#BuildBackBetter', \n",
        "#                          '#WorldMentalHealthDay', \"#SafeOnline\", \"#vaccines\"]\n",
        "# dff = pd.DataFrame(columns = ['User_name', 'Hashtag', 'id', 'created_at'])\n",
        "# Full_gathered_data = list()\n",
        "# cnter = 0\n",
        "# List_per_keyword = list()\n",
        "# Arr_hld = np.array((7,), dtype=str)\n",
        "# for name in os.listdir(data_dir):\n",
        "#   if name.endswith(\".csv\"):\n",
        "#     filee = pd.read_csv(data_dir + \"/\" + name)\n",
        "#     Hashtag_list = list()\n",
        "#     Valid_date_list = list()\n",
        "#     for i in range(filee.shape[0]):\n",
        "#       Year = int(filee['created_at'][i][:4])\n",
        "#       Month = int(filee['created_at'][i][5:7])\n",
        "#       Day = int(filee['created_at'][i][8:10])\n",
        "#       if Year == 2020:\n",
        "#         if Month == 2 and Day > 2:\n",
        "#           Valid_date_list.append(i)\n",
        "#         elif Month > 2:\n",
        "#           Valid_date_list.append(i)\n",
        "#       if Year == 2021:\n",
        "#           #print(\"{}.{}.{}\".format(Year,Month,Day))\n",
        "#           if Month < 5:\n",
        "#             Valid_date_list.append(i)\n",
        "#     for item in Valid_date_list:\n",
        "#       tweet_text = filee['text'][item]\n",
        "#       for key_w in Hashtags_under_search:\n",
        "#         for it in tweet_text.split(\" \"):\n",
        "#           if key_w == it:\n",
        "#             dat = name.split(\"_tweets\")[0], key_w, filee['id'][item],\tfilee['created_at'][item]\n",
        "#             dff.loc[cnter] = dat\n",
        "#             cnter += 1"
      ],
      "execution_count": null,
      "outputs": []
    },
    {
      "cell_type": "code",
      "metadata": {
        "colab": {
          "base_uri": "https://localhost:8080/",
          "height": 417
        },
        "id": "jZHFiMqPPI_v",
        "outputId": "0b1a3e0d-35a2-4502-bd9f-9d82486a5475"
      },
      "source": [
        "dff"
      ],
      "execution_count": null,
      "outputs": [
        {
          "output_type": "execute_result",
          "data": {
            "text/html": [
              "<div>\n",
              "<style scoped>\n",
              "    .dataframe tbody tr th:only-of-type {\n",
              "        vertical-align: middle;\n",
              "    }\n",
              "\n",
              "    .dataframe tbody tr th {\n",
              "        vertical-align: top;\n",
              "    }\n",
              "\n",
              "    .dataframe thead th {\n",
              "        text-align: right;\n",
              "    }\n",
              "</style>\n",
              "<table border=\"1\" class=\"dataframe\">\n",
              "  <thead>\n",
              "    <tr style=\"text-align: right;\">\n",
              "      <th></th>\n",
              "      <th>User_name</th>\n",
              "      <th>Hashtag</th>\n",
              "      <th>id</th>\n",
              "      <th>created_at</th>\n",
              "    </tr>\n",
              "  </thead>\n",
              "  <tbody>\n",
              "    <tr>\n",
              "      <th>0</th>\n",
              "      <td>DHSCgovuk</td>\n",
              "      <td>#NHS</td>\n",
              "      <td>1388229167708217348</td>\n",
              "      <td>2021-04-30 20:30:00</td>\n",
              "    </tr>\n",
              "    <tr>\n",
              "      <th>1</th>\n",
              "      <td>DHSCgovuk</td>\n",
              "      <td>#COVID19</td>\n",
              "      <td>1388168772863856641</td>\n",
              "      <td>2021-04-30 16:30:01</td>\n",
              "    </tr>\n",
              "    <tr>\n",
              "      <th>2</th>\n",
              "      <td>DHSCgovuk</td>\n",
              "      <td>#COVID19</td>\n",
              "      <td>1388148854332313604</td>\n",
              "      <td>2021-04-30 15:10:52</td>\n",
              "    </tr>\n",
              "    <tr>\n",
              "      <th>3</th>\n",
              "      <td>DHSCgovuk</td>\n",
              "      <td>#COVID19</td>\n",
              "      <td>1388115927464431620</td>\n",
              "      <td>2021-04-30 13:00:01</td>\n",
              "    </tr>\n",
              "    <tr>\n",
              "      <th>4</th>\n",
              "      <td>DHSCgovuk</td>\n",
              "      <td>#COVID19</td>\n",
              "      <td>1388044198687870976</td>\n",
              "      <td>2021-04-30 08:15:00</td>\n",
              "    </tr>\n",
              "    <tr>\n",
              "      <th>...</th>\n",
              "      <td>...</td>\n",
              "      <td>...</td>\n",
              "      <td>...</td>\n",
              "      <td>...</td>\n",
              "    </tr>\n",
              "    <tr>\n",
              "      <th>11708</th>\n",
              "      <td>publichealthni</td>\n",
              "      <td>#coronavirus</td>\n",
              "      <td>1228635061576065024</td>\n",
              "      <td>2020-02-15 11:00:00</td>\n",
              "    </tr>\n",
              "    <tr>\n",
              "      <th>11709</th>\n",
              "      <td>publichealthni</td>\n",
              "      <td>#coronavirus</td>\n",
              "      <td>1228408569021648896</td>\n",
              "      <td>2020-02-14 20:00:00</td>\n",
              "    </tr>\n",
              "    <tr>\n",
              "      <th>11710</th>\n",
              "      <td>publichealthni</td>\n",
              "      <td>#coronavirus</td>\n",
              "      <td>1228345872854982656</td>\n",
              "      <td>2020-02-14 15:50:52</td>\n",
              "    </tr>\n",
              "    <tr>\n",
              "      <th>11711</th>\n",
              "      <td>publichealthni</td>\n",
              "      <td>#COVID</td>\n",
              "      <td>1227593198681255939</td>\n",
              "      <td>2020-02-12 14:00:00</td>\n",
              "    </tr>\n",
              "    <tr>\n",
              "      <th>11712</th>\n",
              "      <td>publichealthni</td>\n",
              "      <td>#Coronavirus</td>\n",
              "      <td>1225841304170618881</td>\n",
              "      <td>2020-02-07 17:58:36</td>\n",
              "    </tr>\n",
              "  </tbody>\n",
              "</table>\n",
              "<p>11713 rows × 4 columns</p>\n",
              "</div>"
            ],
            "text/plain": [
              "            User_name       Hashtag                   id           created_at\n",
              "0           DHSCgovuk          #NHS  1388229167708217348  2021-04-30 20:30:00\n",
              "1           DHSCgovuk      #COVID19  1388168772863856641  2021-04-30 16:30:01\n",
              "2           DHSCgovuk      #COVID19  1388148854332313604  2021-04-30 15:10:52\n",
              "3           DHSCgovuk      #COVID19  1388115927464431620  2021-04-30 13:00:01\n",
              "4           DHSCgovuk      #COVID19  1388044198687870976  2021-04-30 08:15:00\n",
              "...               ...           ...                  ...                  ...\n",
              "11708  publichealthni  #coronavirus  1228635061576065024  2020-02-15 11:00:00\n",
              "11709  publichealthni  #coronavirus  1228408569021648896  2020-02-14 20:00:00\n",
              "11710  publichealthni  #coronavirus  1228345872854982656  2020-02-14 15:50:52\n",
              "11711  publichealthni        #COVID  1227593198681255939  2020-02-12 14:00:00\n",
              "11712  publichealthni  #Coronavirus  1225841304170618881  2020-02-07 17:58:36\n",
              "\n",
              "[11713 rows x 4 columns]"
            ]
          },
          "metadata": {
            "tags": []
          },
          "execution_count": 6
        }
      ]
    },
    {
      "cell_type": "markdown",
      "metadata": {
        "id": "dhJIh17iWrpc"
      },
      "source": [
        "Time object plot"
      ]
    },
    {
      "cell_type": "code",
      "metadata": {
        "id": "Bs8_6v4GQelK"
      },
      "source": [
        "import matplotlib\n",
        "from datetime import datetime\n",
        "import csv"
      ],
      "execution_count": null,
      "outputs": []
    },
    {
      "cell_type": "code",
      "metadata": {
        "id": "LltTXp0lv9de"
      },
      "source": [
        "sorted_dff_peraccount = dff.sort_values(by=['User_name'],ascending=False) #sort by user name"
      ],
      "execution_count": null,
      "outputs": []
    },
    {
      "cell_type": "code",
      "metadata": {
        "id": "j0tJE3VswH_Q"
      },
      "source": [
        "## cnt_idx > keeps total number of tweets tweeted from various accounts  \n",
        "## list_user_notrepeated > keeps dictionary of accounts mapping into numbers corresponding to each account\n",
        "ID_Cnt = 0\n",
        "cnt = 0\n",
        "list_user_notrepeated = {}\n",
        "for i in range(len(sorted_dff_peraccount)): \n",
        "  if sorted_dff_peraccount['User_name'][i] not in list_user_notrepeated:\n",
        "    list_user_notrepeated[sorted_dff_peraccount['User_name'][i]] = cnt\n",
        "    cnt += 1\n",
        "Array_hld = np.chararray((cnt,4*365), itemsize=10, unicode=True)\n",
        "cnt_idx = np.zeros((cnt+1), dtype=int)\n",
        "id_list = list()\n",
        "for i in range(len(sorted_dff_peraccount)):\n",
        "  # following if checks if the tweet is already added in another hashtag\n",
        "  if sorted_dff_peraccount['id'][i] not in id_list:\n",
        "    id_list.append(sorted_dff_peraccount['id'][i])\n",
        "    ID_Cnt = list_user_notrepeated[sorted_dff_peraccount['User_name'][i]]\n",
        "    Array_hld[ID_Cnt][cnt_idx[ID_Cnt]] = sorted_dff_peraccount['created_at'][i]\n",
        "    cnt_idx[ID_Cnt] += 1\n",
        "\n",
        "# output > Array_hld which consists dates of various tweets for cnt_idx"
      ],
      "execution_count": null,
      "outputs": []
    },
    {
      "cell_type": "code",
      "metadata": {
        "id": "3fWsf9991MZr"
      },
      "source": [
        "Dates_per_number_dict = {}\n",
        "for i in range(len(cnt_idx)):\n",
        "  for j in range(cnt_idx[i]):\n",
        "    if Array_hld[i][j] not in Dates_per_number_dict:\n",
        "      Dates_per_number_dict[Array_hld[i][j]] = 1\n",
        "    else:\n",
        "      Dates_per_number_dict[Array_hld[i][j]] = Dates_per_number_dict[Array_hld[i][j]] + 1"
      ],
      "execution_count": null,
      "outputs": []
    },
    {
      "cell_type": "code",
      "metadata": {
        "id": "2hC4DIpL5cQ_"
      },
      "source": [
        "datetime_obj = list()\n",
        "values_list = list()\n",
        "for item in Dates_per_number_dict:\n",
        "  # Sometimes one day springs so we can do sth like this and define a threshold\n",
        "  if Dates_per_number_dict[item] < 800:\n",
        "    values_list.append(Dates_per_number_dict[item])\n",
        "    datetime_obj.append(datetime.strptime(item, '%Y-%m-%d'))\n",
        "  else:\n",
        "    values_list.append(100)\n",
        "    datetime_obj.append(datetime.strptime(item, '%Y-%m-%d'))\n",
        "# Preperation of data based on hashtags and time objects"
      ],
      "execution_count": null,
      "outputs": []
    },
    {
      "cell_type": "code",
      "metadata": {
        "id": "KH8Gjf32flOm"
      },
      "source": [
        "# datetime_obj"
      ],
      "execution_count": null,
      "outputs": []
    },
    {
      "cell_type": "code",
      "metadata": {
        "id": "fDxKYxHqr7x2"
      },
      "source": [
        "# dff.to_csv('/content/drive/MyDrive/DS UK gov/Specified_hashtag_n_keyword_search/Vaccination_Hashtags_for_user_plustime_02022020_31042021.csv', index=False)"
      ],
      "execution_count": null,
      "outputs": []
    },
    {
      "cell_type": "markdown",
      "metadata": {
        "id": "NFnl5tfK2_UH"
      },
      "source": [
        "Making a new dataset for hashtags per time"
      ]
    },
    {
      "cell_type": "code",
      "metadata": {
        "id": "Y9651LkNsTt4"
      },
      "source": [
        "\n",
        "dff = pd.DataFrame(columns = ['Time', 'Hashtags'])\n",
        "Full_gathered_data = list()\n",
        "cnter = 0\n",
        "List_per_keyword = list()\n",
        "Arr_hld = np.array((7,), dtype=str)\n",
        "for item in Dates_per_number_dict:\n",
        "  dff.loc[cnter] = (datetime.strptime(item, '%Y-%m-%d'), Dates_per_number_dict[item])\n",
        "  cnter += 1"
      ],
      "execution_count": null,
      "outputs": []
    },
    {
      "cell_type": "markdown",
      "metadata": {
        "id": "MswveEhe3DOH"
      },
      "source": [
        "Making two datasets for Covid death and new cases daily based on time"
      ]
    },
    {
      "cell_type": "code",
      "metadata": {
        "id": "c3oX6oUGnLLs"
      },
      "source": [
        "Our_reference_dataset = ['/content/drive/MyDrive/DS UK gov/COVID statistics /Covid_death_rates.csv',\n",
        "                         '/content/drive/MyDrive/DS UK gov/COVID statistics /Covid_new_cases.csv']\n",
        "\n",
        "cnter = 0\n",
        "dff_death_rates = pd.DataFrame(columns = ['Time', 'Deat_per_day'])\n",
        "with open(Our_reference_dataset[0], 'r', newline='') as csvfile: #Define the location in the list to desired dataset\n",
        "  datareader = csv.reader(csvfile)\n",
        "  next(datareader)\n",
        "  for row in datareader:\n",
        "    dff_death_rates.loc[cnter] = (datetime.strptime(row[0], '%m/%d/%Y'), row[1])\n",
        "    cnter += 1\n",
        "\n",
        "# The output would be a dataset of real-world data per time"
      ],
      "execution_count": null,
      "outputs": []
    },
    {
      "cell_type": "code",
      "metadata": {
        "colab": {
          "base_uri": "https://localhost:8080/",
          "height": 415
        },
        "id": "pbeTq_gltyON",
        "outputId": "2a993561-76aa-4be8-e72f-b374458d9aa1"
      },
      "source": [
        "# 1. outer join on time between both datasets\n",
        "# 2. sort per time\n",
        "# 3. save the dataset with desired name\n",
        "\n",
        "dff_hashtags_death = pd.concat([dff.set_index('Time'),dff_death_rates.set_index('Time')], axis=1, join='outer')\n",
        "dff_hashtags_death = dff_hashtags_death.sort_values(by=['Time'],ascending=True)\n",
        "dff_hashtags_death.to_csv('/content/drive/MyDrive/DS UK gov/Relative_Diagrams/Hashtags_Death_ratio1.csv', index=True)"
      ],
      "execution_count": null,
      "outputs": [
        {
          "output_type": "execute_result",
          "data": {
            "text/html": [
              "<div>\n",
              "<style scoped>\n",
              "    .dataframe tbody tr th:only-of-type {\n",
              "        vertical-align: middle;\n",
              "    }\n",
              "\n",
              "    .dataframe tbody tr th {\n",
              "        vertical-align: top;\n",
              "    }\n",
              "\n",
              "    .dataframe thead th {\n",
              "        text-align: right;\n",
              "    }\n",
              "</style>\n",
              "<table border=\"1\" class=\"dataframe\">\n",
              "  <thead>\n",
              "    <tr style=\"text-align: right;\">\n",
              "      <th></th>\n",
              "      <th>Time</th>\n",
              "      <th>Deat_per_day</th>\n",
              "    </tr>\n",
              "  </thead>\n",
              "  <tbody>\n",
              "    <tr>\n",
              "      <th>0</th>\n",
              "      <td>2021-04-30</td>\n",
              "      <td>8</td>\n",
              "    </tr>\n",
              "    <tr>\n",
              "      <th>1</th>\n",
              "      <td>2021-04-29</td>\n",
              "      <td>13</td>\n",
              "    </tr>\n",
              "    <tr>\n",
              "      <th>2</th>\n",
              "      <td>2021-04-28</td>\n",
              "      <td>14</td>\n",
              "    </tr>\n",
              "    <tr>\n",
              "      <th>3</th>\n",
              "      <td>2021-04-27</td>\n",
              "      <td>12</td>\n",
              "    </tr>\n",
              "    <tr>\n",
              "      <th>4</th>\n",
              "      <td>2021-04-26</td>\n",
              "      <td>11</td>\n",
              "    </tr>\n",
              "    <tr>\n",
              "      <th>...</th>\n",
              "      <td>...</td>\n",
              "      <td>...</td>\n",
              "    </tr>\n",
              "    <tr>\n",
              "      <th>420</th>\n",
              "      <td>2020-03-06</td>\n",
              "      <td>0</td>\n",
              "    </tr>\n",
              "    <tr>\n",
              "      <th>421</th>\n",
              "      <td>2020-03-05</td>\n",
              "      <td>3</td>\n",
              "    </tr>\n",
              "    <tr>\n",
              "      <th>422</th>\n",
              "      <td>2020-03-04</td>\n",
              "      <td>0</td>\n",
              "    </tr>\n",
              "    <tr>\n",
              "      <th>423</th>\n",
              "      <td>2020-03-03</td>\n",
              "      <td>2</td>\n",
              "    </tr>\n",
              "    <tr>\n",
              "      <th>424</th>\n",
              "      <td>2020-03-02</td>\n",
              "      <td>1</td>\n",
              "    </tr>\n",
              "  </tbody>\n",
              "</table>\n",
              "<p>425 rows × 2 columns</p>\n",
              "</div>"
            ],
            "text/plain": [
              "          Time Deat_per_day\n",
              "0   2021-04-30            8\n",
              "1   2021-04-29           13\n",
              "2   2021-04-28           14\n",
              "3   2021-04-27           12\n",
              "4   2021-04-26           11\n",
              "..         ...          ...\n",
              "420 2020-03-06            0\n",
              "421 2020-03-05            3\n",
              "422 2020-03-04            0\n",
              "423 2020-03-03            2\n",
              "424 2020-03-02            1\n",
              "\n",
              "[425 rows x 2 columns]"
            ]
          },
          "metadata": {},
          "execution_count": 32
        }
      ]
    },
    {
      "cell_type": "code",
      "metadata": {
        "id": "SgzJslMwpfni"
      },
      "source": [
        "# dff_hashtags_death = pd.concat([dff.set_index('Time'),dff_death_rates.set_index('Time')], axis=1, join='outer')"
      ],
      "execution_count": null,
      "outputs": []
    },
    {
      "cell_type": "code",
      "metadata": {
        "colab": {
          "base_uri": "https://localhost:8080/",
          "height": 446
        },
        "id": "3A-O2bMqsrIY",
        "outputId": "521608e1-0f3f-4723-d6dc-51b9da288487"
      },
      "source": [
        "# pd.concat([dff.set_index('Time'),dff_death_rates.set_index('Time')], axis=1, join='outer')"
      ],
      "execution_count": null,
      "outputs": [
        {
          "output_type": "execute_result",
          "data": {
            "text/html": [
              "<div>\n",
              "<style scoped>\n",
              "    .dataframe tbody tr th:only-of-type {\n",
              "        vertical-align: middle;\n",
              "    }\n",
              "\n",
              "    .dataframe tbody tr th {\n",
              "        vertical-align: top;\n",
              "    }\n",
              "\n",
              "    .dataframe thead th {\n",
              "        text-align: right;\n",
              "    }\n",
              "</style>\n",
              "<table border=\"1\" class=\"dataframe\">\n",
              "  <thead>\n",
              "    <tr style=\"text-align: right;\">\n",
              "      <th></th>\n",
              "      <th>Hashtags</th>\n",
              "      <th>Deat_per_day</th>\n",
              "    </tr>\n",
              "    <tr>\n",
              "      <th>Time</th>\n",
              "      <th></th>\n",
              "      <th></th>\n",
              "    </tr>\n",
              "  </thead>\n",
              "  <tbody>\n",
              "    <tr>\n",
              "      <th>2020-02-03</th>\n",
              "      <td>5</td>\n",
              "      <td>NaN</td>\n",
              "    </tr>\n",
              "    <tr>\n",
              "      <th>2020-02-04</th>\n",
              "      <td>3</td>\n",
              "      <td>NaN</td>\n",
              "    </tr>\n",
              "    <tr>\n",
              "      <th>2020-02-05</th>\n",
              "      <td>7</td>\n",
              "      <td>NaN</td>\n",
              "    </tr>\n",
              "    <tr>\n",
              "      <th>2020-02-06</th>\n",
              "      <td>4</td>\n",
              "      <td>NaN</td>\n",
              "    </tr>\n",
              "    <tr>\n",
              "      <th>2020-02-07</th>\n",
              "      <td>4</td>\n",
              "      <td>NaN</td>\n",
              "    </tr>\n",
              "    <tr>\n",
              "      <th>...</th>\n",
              "      <td>...</td>\n",
              "      <td>...</td>\n",
              "    </tr>\n",
              "    <tr>\n",
              "      <th>2021-04-26</th>\n",
              "      <td>33</td>\n",
              "      <td>11</td>\n",
              "    </tr>\n",
              "    <tr>\n",
              "      <th>2021-04-27</th>\n",
              "      <td>39</td>\n",
              "      <td>12</td>\n",
              "    </tr>\n",
              "    <tr>\n",
              "      <th>2021-04-28</th>\n",
              "      <td>46</td>\n",
              "      <td>14</td>\n",
              "    </tr>\n",
              "    <tr>\n",
              "      <th>2021-04-29</th>\n",
              "      <td>36</td>\n",
              "      <td>13</td>\n",
              "    </tr>\n",
              "    <tr>\n",
              "      <th>2021-04-30</th>\n",
              "      <td>26</td>\n",
              "      <td>8</td>\n",
              "    </tr>\n",
              "  </tbody>\n",
              "</table>\n",
              "<p>452 rows × 2 columns</p>\n",
              "</div>"
            ],
            "text/plain": [
              "           Hashtags Deat_per_day\n",
              "Time                            \n",
              "2020-02-03        5          NaN\n",
              "2020-02-04        3          NaN\n",
              "2020-02-05        7          NaN\n",
              "2020-02-06        4          NaN\n",
              "2020-02-07        4          NaN\n",
              "...             ...          ...\n",
              "2021-04-26       33           11\n",
              "2021-04-27       39           12\n",
              "2021-04-28       46           14\n",
              "2021-04-29       36           13\n",
              "2021-04-30       26            8\n",
              "\n",
              "[452 rows x 2 columns]"
            ]
          },
          "metadata": {},
          "execution_count": 14
        }
      ]
    },
    {
      "cell_type": "code",
      "metadata": {
        "id": "-jtkCDrQaY4H"
      },
      "source": [
        "# dff_hashtags_death = dff_hashtags_death.sort_values(by=['Time'],ascending=True)"
      ],
      "execution_count": null,
      "outputs": []
    },
    {
      "cell_type": "code",
      "metadata": {
        "id": "-AajITMNaUS3"
      },
      "source": [
        "# dff_hashtags_death.to_csv('/content/drive/MyDrive/DS UK gov/Relative_Diagrams/Hashtags_Death_ratio1.csv', index=True)"
      ],
      "execution_count": null,
      "outputs": []
    },
    {
      "cell_type": "code",
      "metadata": {
        "id": "wGREfWOPrn3N"
      },
      "source": [
        "# dff_hashtags_death.to_csv('/content/drive/MyDrive/DS UK gov/Relative_Diagrams/Hashtags_NewCase_ratio.csv', index=True)"
      ],
      "execution_count": null,
      "outputs": []
    },
    {
      "cell_type": "code",
      "metadata": {
        "colab": {
          "base_uri": "https://localhost:8080/",
          "height": 417
        },
        "id": "XziW5tUeuf0M",
        "outputId": "56d53a64-a22a-4454-8693-5169ea6b9451"
      },
      "source": [
        "# dff.sort_values(by=['Time'],ascending=False)"
      ],
      "execution_count": null,
      "outputs": [
        {
          "output_type": "execute_result",
          "data": {
            "text/html": [
              "<div>\n",
              "<style scoped>\n",
              "    .dataframe tbody tr th:only-of-type {\n",
              "        vertical-align: middle;\n",
              "    }\n",
              "\n",
              "    .dataframe tbody tr th {\n",
              "        vertical-align: top;\n",
              "    }\n",
              "\n",
              "    .dataframe thead th {\n",
              "        text-align: right;\n",
              "    }\n",
              "</style>\n",
              "<table border=\"1\" class=\"dataframe\">\n",
              "  <thead>\n",
              "    <tr style=\"text-align: right;\">\n",
              "      <th></th>\n",
              "      <th>Time</th>\n",
              "      <th>Hashtags</th>\n",
              "    </tr>\n",
              "  </thead>\n",
              "  <tbody>\n",
              "    <tr>\n",
              "      <th>0</th>\n",
              "      <td>2021-04-30</td>\n",
              "      <td>26</td>\n",
              "    </tr>\n",
              "    <tr>\n",
              "      <th>1</th>\n",
              "      <td>2021-04-29</td>\n",
              "      <td>36</td>\n",
              "    </tr>\n",
              "    <tr>\n",
              "      <th>2</th>\n",
              "      <td>2021-04-28</td>\n",
              "      <td>46</td>\n",
              "    </tr>\n",
              "    <tr>\n",
              "      <th>3</th>\n",
              "      <td>2021-04-27</td>\n",
              "      <td>39</td>\n",
              "    </tr>\n",
              "    <tr>\n",
              "      <th>4</th>\n",
              "      <td>2021-04-26</td>\n",
              "      <td>33</td>\n",
              "    </tr>\n",
              "    <tr>\n",
              "      <th>...</th>\n",
              "      <td>...</td>\n",
              "      <td>...</td>\n",
              "    </tr>\n",
              "    <tr>\n",
              "      <th>408</th>\n",
              "      <td>2020-02-07</td>\n",
              "      <td>4</td>\n",
              "    </tr>\n",
              "    <tr>\n",
              "      <th>392</th>\n",
              "      <td>2020-02-06</td>\n",
              "      <td>4</td>\n",
              "    </tr>\n",
              "    <tr>\n",
              "      <th>406</th>\n",
              "      <td>2020-02-05</td>\n",
              "      <td>7</td>\n",
              "    </tr>\n",
              "    <tr>\n",
              "      <th>428</th>\n",
              "      <td>2020-02-04</td>\n",
              "      <td>3</td>\n",
              "    </tr>\n",
              "    <tr>\n",
              "      <th>404</th>\n",
              "      <td>2020-02-03</td>\n",
              "      <td>5</td>\n",
              "    </tr>\n",
              "  </tbody>\n",
              "</table>\n",
              "<p>433 rows × 2 columns</p>\n",
              "</div>"
            ],
            "text/plain": [
              "          Time Hashtags\n",
              "0   2021-04-30       26\n",
              "1   2021-04-29       36\n",
              "2   2021-04-28       46\n",
              "3   2021-04-27       39\n",
              "4   2021-04-26       33\n",
              "..         ...      ...\n",
              "408 2020-02-07        4\n",
              "392 2020-02-06        4\n",
              "406 2020-02-05        7\n",
              "428 2020-02-04        3\n",
              "404 2020-02-03        5\n",
              "\n",
              "[433 rows x 2 columns]"
            ]
          },
          "metadata": {
            "tags": []
          },
          "execution_count": 40
        }
      ]
    },
    {
      "cell_type": "code",
      "metadata": {
        "id": "Fpn0IXIsskQK"
      },
      "source": [
        "# dff.to_csv('/content/drive/MyDrive/Hashtags_per_day.csv', index=False)"
      ],
      "execution_count": null,
      "outputs": []
    },
    {
      "cell_type": "code",
      "metadata": {
        "id": "HzadZ1CBrlt2"
      },
      "source": [
        "Dates_per_number_dict"
      ],
      "execution_count": null,
      "outputs": []
    },
    {
      "cell_type": "markdown",
      "metadata": {
        "id": "Prr--MlS52D7"
      },
      "source": [
        "Plot a high quality image of dataframe"
      ]
    },
    {
      "cell_type": "code",
      "metadata": {
        "id": "ns0yCBXX8ZK2"
      },
      "source": [
        "from matplotlib.dates import DateFormatter"
      ],
      "execution_count": null,
      "outputs": []
    },
    {
      "cell_type": "code",
      "metadata": {
        "id": "wruoGgZUNxXq"
      },
      "source": [
        "def Plot_image(datetime_obj,values_list, title_g=\"\",Date_format=\"%Y-%m\", dpi=800, save_enable = True):\n",
        "  fig, ax = plt.subplots(figsize=(20, 8))\n",
        "\n",
        "  # Add x-axis and y-axis\n",
        "  ax.plot(datetime_obj,values_list,\n",
        "        color='purple')\n",
        "\n",
        "  # Set title and labels for axes\n",
        "  ax.set(xlabel=\"Date\",\n",
        "        ylabel=\"Tweets Count\",\n",
        "        title=title_g)\n",
        "\n",
        "  # Define the date format\n",
        "  date_form = DateFormatter(Date_format)\n",
        "  ax.xaxis.set_major_formatter(date_form)\n",
        "  if save_enable is True:\n",
        "    plt.savefig(\"/content/drive/MyDrive/DS UK gov/Specified_hashtag_n_keyword_search/Vaccination_keywords_per_month.png\",dpi=800)\n",
        "  plt.show()\n",
        "\n",
        "title_g = [\"Daily Tweets Related to Covid Feb 2020 - May 2021 Across all accounts\",\n",
        "           \"Daily Vaccination Related Tweets Feb 2020 - May 2021\"]\n",
        "\n",
        "Plot_image(datetime_obj,values_list, title_g=title_g[0], save_enable = False)"
      ],
      "execution_count": null,
      "outputs": []
    },
    {
      "cell_type": "code",
      "metadata": {
        "colab": {
          "base_uri": "https://localhost:8080/",
          "height": 282
        },
        "id": "vmHC-PDw7QS0",
        "outputId": "141e9839-bda4-432e-d0b9-130059e8a54b"
      },
      "source": [
        "# dates = matplotlib.dates.date2num(datetime_obj)\n",
        "# matplotlib.pyplot.plot_date(dates, values_list)"
      ],
      "execution_count": null,
      "outputs": [
        {
          "output_type": "execute_result",
          "data": {
            "text/plain": [
              "[<matplotlib.lines.Line2D at 0x7f8d39549090>]"
            ]
          },
          "metadata": {
            "tags": []
          },
          "execution_count": 58
        },
        {
          "output_type": "display_data",
          "data": {
            "image/png": "[encoded data removed]",
            "text/plain": [
              "<Figure size 432x288 with 1 Axes>"
            ]
          },
          "metadata": {
            "tags": []
          }
        }
      ]
    },
    {
      "cell_type": "code",
      "metadata": {
        "id": "nEPgHEKw8zEi"
      },
      "source": [
        "# c = 0\n",
        "# for item in values_list:\n",
        "#   if item > c:\n",
        "#     c = item"
      ],
      "execution_count": null,
      "outputs": []
    },
    {
      "cell_type": "code",
      "metadata": {
        "colab": {
          "base_uri": "https://localhost:8080/"
        },
        "id": "IBEKsDgx8529",
        "outputId": "7e9b3d93-28da-466f-dbb6-9b71ca35844a"
      },
      "source": [
        "# datetime_obj.append(datetime.strptime(item, '%Y-%m-%d'))"
      ],
      "execution_count": null,
      "outputs": [
        {
          "output_type": "execute_result",
          "data": {
            "text/plain": [
              "63"
            ]
          },
          "metadata": {
            "tags": []
          },
          "execution_count": 35
        }
      ]
    },
    {
      "cell_type": "code",
      "metadata": {
        "id": "xGyLypi27tBg"
      },
      "source": [
        "# fig, ax = plt.subplots(figsize=(20, 8))\n",
        "\n",
        "# # Add x-axis and y-axis\n",
        "# ax.bar(datetime_obj,values_list,\n",
        "#        color='purple')\n",
        "\n",
        "# # Set title and labels for axes\n",
        "# ax.set(xlabel=\"Date\",\n",
        "#        ylabel=\"Tweets Count\",\n",
        "#        title=\"Daily Vaccination Related Tweets Feb 2019 - May 2021\")\n",
        "\n",
        "# # Define the date format\n",
        "# date_form = DateFormatter(\"%Y-%m\")\n",
        "# ax.xaxis.set_major_formatter(date_form)\n",
        "# plt.savefig(\"/content/drive/MyDrive/DS UK gov/Specified_hashtag_n_keyword_search/Vaccination_keywords_per_month.png\",dpi=800)\n",
        "# plt.show()\n",
        "\n"
      ],
      "execution_count": null,
      "outputs": []
    },
    {
      "cell_type": "code",
      "metadata": {
        "id": "QX6USssSCj0i"
      },
      "source": [
        "# fig, ax = plt.subplots(figsize=(20, 8))\n",
        "\n",
        "# # Add x-axis and y-axis\n",
        "# ax.bar(datetime_obj,values_list,\n",
        "#        color='blue')\n",
        "\n",
        "# # Set title and labels for axes\n",
        "# ax.set(xlabel=\"Date\",\n",
        "#        ylabel=\"Total Tweets Count\",\n",
        "#        title=\"Daily Tweets Related to Covid Feb 2020 - May 2021 Across all accounts\")\n",
        "\n",
        "# # Define the date format\n",
        "# date_form = DateFormatter(\"%Y-%m\")\n",
        "# ax.xaxis.set_major_formatter(date_form)\n",
        "# plt.savefig(\"/content/drive/MyDrive/DS UK gov/Raw_Hashtags_plus_relative_classification/Tweet_per_month.png\",dpi=800)\n",
        "# plt.show()\n",
        "\n"
      ],
      "execution_count": null,
      "outputs": []
    },
    {
      "cell_type": "code",
      "metadata": {
        "id": "nDoQWISg6Zrb"
      },
      "source": [
        "values_list"
      ],
      "execution_count": null,
      "outputs": []
    },
    {
      "cell_type": "code",
      "metadata": {
        "id": "_ExvjzMTQk2b"
      },
      "source": [
        "# sorted_dff_pertime = dff.sort_values(by=['created_at'],ascending=False)\n",
        "# datetime_object = list()\n",
        "# for i in range(len(dff)):\n",
        "#   datetime_object.append(datetime.strptime(sorted_dff_pertime['created_at'][i], '%Y-%m-%d %H:%M:%S'))\n",
        "# for \n",
        "# #dates = matplotlib.dates.date2num(datetime_object)\n"
      ],
      "execution_count": null,
      "outputs": []
    },
    {
      "cell_type": "code",
      "metadata": {
        "id": "oMZBTFMzVW_s"
      },
      "source": [
        "# cnt = 0\n",
        "# for item in datetime_object:\n",
        "#   if item.year == 2020:\n",
        "#     for co in range(1,13):\n",
        "#       if item.month == co:\n",
        "        "
      ],
      "execution_count": null,
      "outputs": []
    },
    {
      "cell_type": "markdown",
      "metadata": {
        "id": "ERIpDgfvfw6s"
      },
      "source": [
        "#EXtracting Retweets"
      ]
    },
    {
      "cell_type": "markdown",
      "metadata": {
        "id": "H_7JmZlRWnLT"
      },
      "source": [
        "Vaccinations"
      ]
    },
    {
      "cell_type": "code",
      "metadata": {
        "id": "cRrQo4Eb_BIx"
      },
      "source": [
        "import csv\n",
        "import sys"
      ],
      "execution_count": null,
      "outputs": []
    },
    {
      "cell_type": "code",
      "metadata": {
        "id": "ApMPPx7BdaAv"
      },
      "source": [
        "def Extract_retweets(DB_path, Out_DB_path, Wait_rate = True, Limit = 100)#Pasrses at most 100 retweets into output database (Wait_rate should be true to parse retweets with api limitation)"
      ],
      "execution_count": null,
      "outputs": []
    },
    {
      "cell_type": "code",
      "metadata": {
        "id": "EwAd6oqEqe3d"
      },
      "source": [
        "def Extract_retweets(DB_path, Out_DB_path, Wait_rate = True, Limit = 100):#Pasrses at most 100 retweets into output database (Wait_rate should be true to parse retweets with api limitation)\n",
        "  # Authorize our Twitter credentials\n",
        "  auth = tweepy.OAuthHandler(consumer_key, consumer_secret)\n",
        "  auth.set_access_token(access_token, access_token_secret)\n",
        "  api = tweepy.API(auth)\n",
        "  api = tweepy.API(auth, wait_on_rate_limit=Wait_rate)\n",
        "\n",
        "  db_file = open(Data_dir, 'r')\n",
        "  db_file.readline()\n",
        "  id_name_lists = list()\n",
        "  user_names_list = list()\n",
        "  for item in db_file.readlines():\n",
        "    splt = item.split(',')[2]\n",
        "    if splt not in id_name_lists:\n",
        "      id_name_lists.append(splt)\n",
        "      user_names_list.append(item.split(',')[0])\n",
        "  print(\"User list length {}\".format(len(user_names_list)))\n",
        "  with open(Out_DB_path, 'a', newline='') as csvfile:\n",
        "    spamwriter = csv.writer(csvfile, delimiter=',',\n",
        "                            quotechar='|', quoting=csv.QUOTE_MINIMAL)\n",
        "    #spamwriter.writerow([\"User_name\", \"ID\", \"List_of_retweets\"])\n",
        "    for i, ID in enumerate(id_name_lists):\n",
        "      if i > 421: # in case of an interruption this can be increased so u can begin from the middle of the dataset where the parsing was performed lately by just seeting i more than the desired value\n",
        "        # the ID of the tweet\n",
        "        # number to retweets to be retrieved\n",
        "        count = Limit\n",
        "        # getting the retweeters\n",
        "        retweets_list = api.retweets(int(ID), count)\n",
        "        #print(len(retweets_list))\n",
        "        # printing the screen names of the retweeters\n",
        "        user_names = list()\n",
        "        user_names.append(user_names_list[i])\n",
        "        user_names.append(ID)\n",
        "        for retweet in retweets_list:\n",
        "          user_names.append(retweet.user.screen_name)\n",
        "        spamwriter.writerow(user_names)\n",
        "        # print out i counting to set in case of interruption\n",
        "        sys.stdout.write(\"\\r\" + \"#samples written: {}\".format(i))\n",
        "        sys.stdout.flush()\n",
        "\n",
        "#  For hashtags retweets\n",
        "Data_dir = '/content/drive/MyDrive/DS UK gov/Specified_hashtag_n_keyword_search/Vaccination_Hashtags_for_user_plustime_02022020_31042021.csv'\n",
        "Out_DB_path = '/content/drive/MyDrive/DS UK gov/Retweets_data/Retweets_related_2_Vaccination_Hashtags.csv'\n",
        "Extract_retweets(data_dir, Out_DB_path)\n",
        "\n",
        "# For Vaccination keywords retweets\n",
        "Data_dir = '/content/drive/MyDrive/DS UK gov/Specified_hashtag_n_keyword_search/Hashtags_per_user_plusinfo_02022020_31042021.csv'\n",
        "Out_DB_path = '/content/drive/MyDrive/DS UK gov/Retweets_data/Retweets_related_2_Covid_Hashtags.csv'\n",
        "Extract_retweets(data_dir, Out_DB_path)"
      ],
      "execution_count": null,
      "outputs": []
    },
    {
      "cell_type": "code",
      "metadata": {
        "colab": {
          "base_uri": "https://localhost:8080/"
        },
        "id": "rMV-40dSVZ-C",
        "outputId": "4c7242e5-bc01-47da-c847-05e254483084"
      },
      "source": [
        "# import pandas as pd\n",
        "# import csv\n",
        "# import sys\n",
        "\n",
        "# Data_dir = '/content/drive/MyDrive/DS UK gov/Specified_hashtag_n_keyword_search/Hashtags_per_user_plusinfo_02022020_31042021.csv'\n",
        "# pd_df = pd.read_csv(Data_dir)\n",
        "# # Authorize our Twitter credentials\n",
        "# auth = tweepy.OAuthHandler(consumer_key, consumer_secret)\n",
        "# auth.set_access_token(access_token, access_token_secret)\n",
        "# api = tweepy.API(auth)\n",
        "# api = tweepy.API(auth, wait_on_rate_limit=True)\n",
        "\n",
        "# id_name_lists = list()\n",
        "# user_names_list = list()\n",
        "# for it in range(len(pd_df['id'])):\n",
        "#   splt = pd_df['id'][it]\n",
        "#   if splt not in id_name_lists:\n",
        "#     id_name_lists.append(splt)\n",
        "#     user_names_list.append(pd_df['User_name'][it])\n",
        "# print(\"User list length {}\".format(len(user_names_list)))\n",
        "# with open('/content/drive/MyDrive/DS UK gov/Retweets_data/Retweets_related_2_Covid_Hashtags.csv', 'a', newline='') as csvfile:\n",
        "#   spamwriter = csv.writer(csvfile, delimiter=',',\n",
        "#                           quotechar='|', quoting=csv.QUOTE_MINIMAL)\n",
        "#   #spamwriter.writerow([\"User_name\", \"ID\", \"List_of_retweets\"])\n",
        "#   for i, ID in enumerate(id_name_lists):\n",
        "#     if i > 10570:#6619:\n",
        "#       # the ID of the tweet\n",
        "#       # number to retweets to be retrieved\n",
        "#       count = 100\n",
        "#       # getting the retweeters\n",
        "#       retweets_list = api.retweets(int(ID), count)\n",
        "#       #print(len(retweets_list))\n",
        "#       # printing the screen names of the retweeters\n",
        "#       user_names = list()\n",
        "#       user_names.append(user_names_list[i])\n",
        "#       user_names.append(ID)\n",
        "#       for retweet in retweets_list:\n",
        "#         user_names.append(retweet.user.screen_name)\n",
        "#       spamwriter.writerow(user_names)\n",
        "#       sys.stdout.write(\"\\r\" + \"#samples written: {}\".format(i))\n",
        "#       sys.stdout.flush()"
      ],
      "execution_count": null,
      "outputs": [
        {
          "output_type": "stream",
          "text": [
            "User list length 10571\n"
          ],
          "name": "stdout"
        }
      ]
    },
    {
      "cell_type": "markdown",
      "metadata": {
        "id": "OSj2LDDmdM-6"
      },
      "source": [
        "Cleaning Databases\n"
      ]
    },
    {
      "cell_type": "code",
      "metadata": {
        "id": "7s-8e3I8dY_h"
      },
      "source": [
        "# import pandas as pd\n",
        "# import csv"
      ],
      "execution_count": null,
      "outputs": []
    },
    {
      "cell_type": "code",
      "metadata": {
        "id": "Isi9oAz4dMW3"
      },
      "source": [
        "# Creating a dataset with an attribute of list of retweets and saving it in csv format\n",
        "\n",
        "id_lists = list()\n",
        "Data_file = '/content/drive/MyDrive/DS UK gov/Retweets_data/Retweets_related_2_Covid_Hashtags.csv'\n",
        "with open(Data_file, 'r', newline='') as csvfile:\n",
        "  datareader = csv.reader(csvfile)\n",
        "  next(datareader)  # yield the header row\n",
        "  with open('/content/drive/MyDrive/DS UK gov/Retweets_data/Retweets_related_2_Covid_Hashtags_cleaned.csv', 'w', newline='') as csvfile1:\n",
        "    spamwriter = csv.writer(csvfile1, delimiter=',',\n",
        "                            quotechar='|', quoting=csv.QUOTE_MINIMAL)\n",
        "    spamwriter.writerow([\"User_name\", \"ID\", \"List_of_retweets\"])\n",
        "    for row in datareader:      \n",
        "      user_names = list()\n",
        "      if row[1] not in id_lists:\n",
        "        id_lists.append(row[1])\n",
        "        for retweet in row:\n",
        "          user_names.append(retweet)\n",
        "        spamwriter.writerow(user_names)"
      ],
      "execution_count": null,
      "outputs": []
    },
    {
      "cell_type": "code",
      "metadata": {
        "id": "XA-J6lC7dc7Y"
      },
      "source": [
        "# We need a list of our specified accounts and their names so:\n",
        "# list_names is the name of our specified gov accounts in our former datasets\n",
        "\n",
        "Data_dir = '/content/drive/MyDrive/DS UK gov/Specified_hashtag_n_keyword_search/Hashtags_per_user_plusinfo_02022020_31042021.csv'\n",
        "#Hashtags_per_user_plusinfo_02022020_31042021\n",
        "#Vaccination_Hashtags_for_user_plustime_02022020_31042021\n",
        "#Vaccination_Keywords_for_user_plustime_02022020_31042021\n",
        "pd_df = pd.read_csv(Data_dir)\n",
        "list_names = list()\n",
        "time_list = list()\n",
        "cnter=0\n",
        "for name in pd_df['User_name']:\n",
        "  if name not in list_names:\n",
        "    list_names.append(name)\n",
        "  cnter += 1\n"
      ],
      "execution_count": null,
      "outputs": []
    },
    {
      "cell_type": "code",
      "metadata": {
        "colab": {
          "base_uri": "https://localhost:8080/",
          "height": 417
        },
        "id": "HnjVHLC-nI4F",
        "outputId": "b04d80d0-8b18-49fd-c343-d284732beb31"
      },
      "source": [
        "# pd_df"
      ],
      "execution_count": null,
      "outputs": [
        {
          "output_type": "execute_result",
          "data": {
            "text/html": [
              "<div>\n",
              "<style scoped>\n",
              "    .dataframe tbody tr th:only-of-type {\n",
              "        vertical-align: middle;\n",
              "    }\n",
              "\n",
              "    .dataframe tbody tr th {\n",
              "        vertical-align: top;\n",
              "    }\n",
              "\n",
              "    .dataframe thead th {\n",
              "        text-align: right;\n",
              "    }\n",
              "</style>\n",
              "<table border=\"1\" class=\"dataframe\">\n",
              "  <thead>\n",
              "    <tr style=\"text-align: right;\">\n",
              "      <th></th>\n",
              "      <th>User_name</th>\n",
              "      <th>Hashtag</th>\n",
              "      <th>id</th>\n",
              "      <th>created_at</th>\n",
              "    </tr>\n",
              "  </thead>\n",
              "  <tbody>\n",
              "    <tr>\n",
              "      <th>0</th>\n",
              "      <td>DHSCgovuk</td>\n",
              "      <td>vaccination</td>\n",
              "      <td>1388229167708217348</td>\n",
              "      <td>2021-04-30 20:30:00</td>\n",
              "    </tr>\n",
              "    <tr>\n",
              "      <th>1</th>\n",
              "      <td>DHSCgovuk</td>\n",
              "      <td>Vaccine</td>\n",
              "      <td>1388195194122670081</td>\n",
              "      <td>2021-04-30 18:15:00</td>\n",
              "    </tr>\n",
              "    <tr>\n",
              "      <th>2</th>\n",
              "      <td>DHSCgovuk</td>\n",
              "      <td>vaccine</td>\n",
              "      <td>1388148854332313604</td>\n",
              "      <td>2021-04-30 15:10:52</td>\n",
              "    </tr>\n",
              "    <tr>\n",
              "      <th>3</th>\n",
              "      <td>DHSCgovuk</td>\n",
              "      <td>vaccine</td>\n",
              "      <td>1388115927464431620</td>\n",
              "      <td>2021-04-30 13:00:01</td>\n",
              "    </tr>\n",
              "    <tr>\n",
              "      <th>4</th>\n",
              "      <td>DHSCgovuk</td>\n",
              "      <td>vaccination</td>\n",
              "      <td>1388115927464431620</td>\n",
              "      <td>2021-04-30 13:00:01</td>\n",
              "    </tr>\n",
              "    <tr>\n",
              "      <th>...</th>\n",
              "      <td>...</td>\n",
              "      <td>...</td>\n",
              "      <td>...</td>\n",
              "      <td>...</td>\n",
              "    </tr>\n",
              "    <tr>\n",
              "      <th>6202</th>\n",
              "      <td>publichealthni</td>\n",
              "      <td>vaccine</td>\n",
              "      <td>1291328168100425729</td>\n",
              "      <td>2020-08-06 11:00:01</td>\n",
              "    </tr>\n",
              "    <tr>\n",
              "      <th>6203</th>\n",
              "      <td>publichealthni</td>\n",
              "      <td>vaccine</td>\n",
              "      <td>1290603386320990209</td>\n",
              "      <td>2020-08-04 11:00:00</td>\n",
              "    </tr>\n",
              "    <tr>\n",
              "      <th>6204</th>\n",
              "      <td>publichealthni</td>\n",
              "      <td>vaccine</td>\n",
              "      <td>1286254734030987264</td>\n",
              "      <td>2020-07-23 11:00:00</td>\n",
              "    </tr>\n",
              "    <tr>\n",
              "      <th>6205</th>\n",
              "      <td>publichealthni</td>\n",
              "      <td>vaccine</td>\n",
              "      <td>1285167386623172608</td>\n",
              "      <td>2020-07-20 10:59:16</td>\n",
              "    </tr>\n",
              "    <tr>\n",
              "      <th>6206</th>\n",
              "      <td>publichealthni</td>\n",
              "      <td>vaccination</td>\n",
              "      <td>1255503263723655168</td>\n",
              "      <td>2020-04-29 14:24:38</td>\n",
              "    </tr>\n",
              "  </tbody>\n",
              "</table>\n",
              "<p>6207 rows × 4 columns</p>\n",
              "</div>"
            ],
            "text/plain": [
              "           User_name      Hashtag                   id           created_at\n",
              "0          DHSCgovuk  vaccination  1388229167708217348  2021-04-30 20:30:00\n",
              "1          DHSCgovuk      Vaccine  1388195194122670081  2021-04-30 18:15:00\n",
              "2          DHSCgovuk      vaccine  1388148854332313604  2021-04-30 15:10:52\n",
              "3          DHSCgovuk      vaccine  1388115927464431620  2021-04-30 13:00:01\n",
              "4          DHSCgovuk  vaccination  1388115927464431620  2021-04-30 13:00:01\n",
              "...              ...          ...                  ...                  ...\n",
              "6202  publichealthni      vaccine  1291328168100425729  2020-08-06 11:00:01\n",
              "6203  publichealthni      vaccine  1290603386320990209  2020-08-04 11:00:00\n",
              "6204  publichealthni      vaccine  1286254734030987264  2020-07-23 11:00:00\n",
              "6205  publichealthni      vaccine  1285167386623172608  2020-07-20 10:59:16\n",
              "6206  publichealthni  vaccination  1255503263723655168  2020-04-29 14:24:38\n",
              "\n",
              "[6207 rows x 4 columns]"
            ]
          },
          "metadata": {
            "tags": []
          },
          "execution_count": 5
        }
      ]
    },
    {
      "cell_type": "code",
      "metadata": {
        "id": "Aeu_1KJ5lSDX"
      },
      "source": [
        "# Creating a dictionary based on id and creation time properties of our former datasets\n",
        "\n",
        "dict_id_time = {}\n",
        "for cnt in range(len(pd_df)):\n",
        "  dict_id_time[pd_df['id'][cnt]] = pd_df['created_at'][cnt]"
      ],
      "execution_count": null,
      "outputs": []
    },
    {
      "cell_type": "code",
      "metadata": {
        "id": "3UZpS5bQhIuj"
      },
      "source": [
        "# We check if there are\n",
        "# 1. Any self retweets > Remove them\n",
        "# 2. If it is retweeted from accounts specified within the gov > Keep them\n",
        "# e.g. \"Retweets_related_2_Covid_Hashtags_specified\" is our fully cleaned dataset\n",
        "\n",
        "Data_file = '/content/drive/MyDrive/DS UK gov/Retweets_data/Retweets_related_2_Covid_Hashtags_cleaned.csv'\n",
        "with open(Data_file, 'r', newline='') as csvfile:\n",
        "  datareader = csv.reader(csvfile)\n",
        "  next(datareader)  # yield the header row\n",
        "  with open('/content/drive/MyDrive/DS UK gov/Retweets_data/Retweets_from_specified_accounts/Retweets_related_2_Covid_Hashtags_specified.csv', 'w', newline='') as csvfile1:\n",
        "    spamwriter = csv.writer(csvfile1, delimiter=',',\n",
        "                            quotechar='|', quoting=csv.QUOTE_MINIMAL)\n",
        "    spamwriter.writerow([\"User_name\", \"ID\", \"Tweet_time\",\"List_of_specified_retweets\"])  \n",
        "    for row in datareader:\n",
        "      gonna_write = list()\n",
        "      gonna_write.append(row[0])\n",
        "      gonna_write.append(row[1])\n",
        "      try:\n",
        "        gonna_write.append(dict_id_time[int(row[1])])\n",
        "      except:\n",
        "        print(row)\n",
        "        break\n",
        "      list_retweeters = row[2:]\n",
        "      lets_write = False\n",
        "      for each in list_retweeters:\n",
        "        if each in list_names:\n",
        "          if each != row[0]:\n",
        "            lets_write = True\n",
        "            gonna_write.append(each)\n",
        "      if lets_write is True:\n",
        "        spamwriter.writerow(gonna_write)"
      ],
      "execution_count": null,
      "outputs": []
    },
    {
      "cell_type": "markdown",
      "metadata": {
        "id": "rYMuBcfQGbpM"
      },
      "source": [
        "#Counting retweets from the dataset\n",
        "\n",
        "In here, we want to have the quantity of data (which can be retweet data) per month granularity shown in a dataset.\n",
        "\n",
        "So, first we specify the users and then we will extract and sum up the countings on our data per month."
      ]
    },
    {
      "cell_type": "code",
      "metadata": {
        "id": "MQXPF8V4Fkb1"
      },
      "source": [
        "# import pandas as pd\n",
        "# import csv"
      ],
      "execution_count": null,
      "outputs": []
    },
    {
      "cell_type": "code",
      "metadata": {
        "id": "bsfSH_-pSodR"
      },
      "source": [
        "# name dict is further used to have our specified user names under investigation\n",
        "\n",
        "name_dict = list()\n",
        "Data_file = '/content/drive/MyDrive/DS UK gov/Retweets_data/Retweets_from_specified_accounts/Retweets_related_2_Covid_Hashtags_specified.csv'\n",
        "with open(Data_file, 'r', newline='') as csvfile:\n",
        "  datareader = csv.reader(csvfile)\n",
        "  next(datareader)  # yield the header row\n",
        "  for row in datareader:\n",
        "    name_list = row[0]\n",
        "    #for item in name_list:\n",
        "    if name_list not in name_dict:\n",
        "      name_dict.append(name_list)"
      ],
      "execution_count": null,
      "outputs": []
    },
    {
      "cell_type": "code",
      "metadata": {
        "id": "1K4KzO3WTHqi",
        "colab": {
          "base_uri": "https://localhost:8080/"
        },
        "outputId": "b0cde738-44f3-4a99-956e-5e71e1694beb"
      },
      "source": [
        "name_dict # our specified usernames"
      ],
      "execution_count": null,
      "outputs": [
        {
          "output_type": "execute_result",
          "data": {
            "text/plain": [
              "['DHSCgovuk',\n",
              " 'PHE_uk',\n",
              " 'NHSEngland',\n",
              " 'CommonsHealth',\n",
              " 'nadhimzahawi',\n",
              " 'MattHancock',\n",
              " 'UKParliament',\n",
              " 'HouseofCommons',\n",
              " 'UKHouseofLords',\n",
              " 'BorisJohnson',\n",
              " '10DowningStreet',\n",
              " 'UKGovScotland',\n",
              " 'scotgov',\n",
              " 'scotgovhealth',\n",
              " 'nidirect',\n",
              " 'healthdpt',\n",
              " 'fmwales',\n",
              " 'UKGovWales',\n",
              " 'WelshGovernment',\n",
              " 'PublicHealthW',\n",
              " 'NHSResearchScot',\n",
              " 'P_H_S_Official',\n",
              " 'GenomicsEngland',\n",
              " 'NIHRresearch',\n",
              " 'JimBethell',\n",
              " 'UKCivilService',\n",
              " 'transportgovuk',\n",
              " 'educationgovuk',\n",
              " 'mhclg',\n",
              " 'beisgovuk',\n",
              " 'DCMS',\n",
              " 'DWP',\n",
              " 'MHRAgovuk',\n",
              " 'publichealthni']"
            ]
          },
          "metadata": {
            "tags": []
          },
          "execution_count": 9
        }
      ]
    },
    {
      "cell_type": "code",
      "metadata": {
        "id": "5PpoysDTTWW3"
      },
      "source": [
        "# Creating a dictionary based on dates per available months which is going to hold the quantities of data repition per account in each month\n",
        "\n",
        "headings = list()\n",
        "headings.append(\"User name\")\n",
        "date_dict = {}\n",
        "Data_file = '/content/drive/MyDrive/DS UK gov/Retweets_data/Retweets_from_specified_accounts/Retweets_related_2_Covid_Hashtags_specified.csv'\n",
        "with open(Data_file, 'r', newline='') as csvfile:\n",
        "  datareader = csv.reader(csvfile)\n",
        "  next(datareader)  # yield the header row\n",
        "  for row in datareader:\n",
        "    name_list = row[2][:7]\n",
        "    if name_list not in date_dict:\n",
        "      date_dict[name_list] = 0\n",
        "      headings.append(name_list)"
      ],
      "execution_count": null,
      "outputs": []
    },
    {
      "cell_type": "code",
      "metadata": {
        "id": "zkx4ocuUTqrP",
        "colab": {
          "base_uri": "https://localhost:8080/"
        },
        "outputId": "2401808d-3168-4248-e5e2-0c2e1d312393"
      },
      "source": [
        "date_dict"
      ],
      "execution_count": null,
      "outputs": [
        {
          "output_type": "execute_result",
          "data": {
            "text/plain": [
              "{'2020-02': 0,\n",
              " '2020-03': 0,\n",
              " '2020-04': 0,\n",
              " '2020-05': 0,\n",
              " '2020-06': 0,\n",
              " '2020-07': 0,\n",
              " '2020-08': 0,\n",
              " '2020-09': 0,\n",
              " '2020-10': 0,\n",
              " '2020-11': 0,\n",
              " '2020-12': 0,\n",
              " '2021-01': 0,\n",
              " '2021-02': 0,\n",
              " '2021-03': 0,\n",
              " '2021-04': 0}"
            ]
          },
          "metadata": {
            "tags": []
          },
          "execution_count": 11
        }
      ]
    },
    {
      "cell_type": "code",
      "metadata": {
        "id": "feYAZ-XjRJoa"
      },
      "source": [
        "def Retweet_count_pertime(DB_file, Out_DB_file, name_dict, date_dict):#Makes a dictionary from our specified accounts and outputs a db quantities of retweet on each tweet per month\n",
        "  drid_lists = list()\n",
        "  date_list = list()\n",
        "  \n",
        "  with open(Out_DB_file, 'w', newline='') as csvfile1:\n",
        "    spamwriter = csv.writer(csvfile1, delimiter=',', quotechar='|', quoting=csv.QUOTE_MINIMAL)  \n",
        "    spamwriter.writerow(headings)\n",
        "    for item1 in name_dict:\n",
        "      with open(DB_file, 'r', newline='') as csvfile:\n",
        "        datareader = csv.reader(csvfile)\n",
        "        next(datareader)  # yield the header row\n",
        "        print(item1)\n",
        "        for row in datareader: \n",
        "          if item1 == row[0]:\n",
        "            print(row)\n",
        "            date_dict[row[2][:7]] = date_dict[row[2][:7]] + len(row[3:])\n",
        "      print(date_dict, item1)\n",
        "      write_list = list()\n",
        "      write_list.append(item1)\n",
        "      for item in headings[1:]:\n",
        "        write_list.append(date_dict[item])\n",
        "        date_dict[item] = 0\n",
        "      spamwriter.writerow(write_list)\n",
        "\n",
        "\n",
        "Data_file = '/content/drive/MyDrive/DS UK gov/Retweets_data/Retweets_from_specified_accounts/Retweets_related_2_Covid_Hashtags_specified.csv'\n",
        "Out_ds = '/content/drive/MyDrive/DS UK gov/Retweets_data/Retweets_from_specified_accounts/3_Analysis_automated.csv'\n",
        "Retweet_count_pertime(Data_file, Out_ds, name_dict, date_dict) # Produces the dataset"
      ],
      "execution_count": null,
      "outputs": []
    },
    {
      "cell_type": "markdown",
      "metadata": {
        "id": "7Xh4poJd2AAm"
      },
      "source": [
        "# Couting Hashtags per account per month"
      ]
    },
    {
      "cell_type": "code",
      "metadata": {
        "id": "VVzBSlQZ2D3q"
      },
      "source": [
        "name_dict = list()\n",
        "Data_file = '/content/drive/MyDrive/Hashtags_per_user_plusinfo_02022020_31042021.csv'\n",
        "with open(Data_file, 'r', newline='') as csvfile:\n",
        "  datareader = csv.reader(csvfile)\n",
        "  next(datareader)  # yield the header row\n",
        "  for row in datareader:\n",
        "    name_list = row[0]\n",
        "    #for item in name_list:\n",
        "    if name_list not in name_dict:\n",
        "      name_dict.append(name_list)"
      ],
      "execution_count": null,
      "outputs": []
    },
    {
      "cell_type": "code",
      "metadata": {
        "id": "rAsqIRhK2EKA"
      },
      "source": [
        "headings = list()\n",
        "headings.append(\"User name\")\n",
        "date_dict = {}\n",
        "with open(Data_file, 'r', newline='') as csvfile:\n",
        "  datareader = csv.reader(csvfile)\n",
        "  next(datareader)  # yield the header row\n",
        "  for row in datareader:\n",
        "    name_list = row[3][:7]\n",
        "    if name_list not in date_dict:\n",
        "      date_dict[name_list] = 0\n",
        "      headings.append(name_list)"
      ],
      "execution_count": null,
      "outputs": []
    },
    {
      "cell_type": "code",
      "metadata": {
        "id": "-sixyq9Y2FNR"
      },
      "source": [
        "id_lists = list()\n",
        "date_list = list()\n",
        "\n",
        "with open('/content/drive/MyDrive/Hashtag_permonth_automated.csv', 'w', newline='') as csvfile1:\n",
        "  spamwriter = csv.writer(csvfile1, delimiter=',', quotechar='|', quoting=csv.QUOTE_MINIMAL)  \n",
        "  spamwriter.writerow(headings)\n",
        "  for item1 in name_dict:\n",
        "    with open(Data_file, 'r', newline='') as csvfile:\n",
        "      datareader = csv.reader(csvfile)\n",
        "      next(datareader)  # yield the header row\n",
        "      print(item1)\n",
        "      for row in datareader: \n",
        "        if item1 == row[0]:\n",
        "          print(row)\n",
        "          date_dict[row[3][:7]] = date_dict[row[3][:7]] + 1\n",
        "    print(date_dict, item1)\n",
        "    write_list = list()\n",
        "    write_list.append(item1)\n",
        "    for item in headings[1:]:\n",
        "      write_list.append(date_dict[item])\n",
        "      date_dict[item] = 0\n",
        "    spamwriter.writerow(write_list)"
      ],
      "execution_count": null,
      "outputs": []
    },
    {
      "cell_type": "markdown",
      "metadata": {
        "id": "fdJvKr9qoqaZ"
      },
      "source": [
        "# *Others*"
      ]
    },
    {
      "cell_type": "markdown",
      "metadata": {
        "id": "0zgQMCD2_CuI"
      },
      "source": [
        "Image Extraction of DB"
      ]
    },
    {
      "cell_type": "code",
      "metadata": {
        "id": "pNHC5bwZqgoO"
      },
      "source": [
        "# install the needed package for image download from twitter\n",
        "!pip install wget"
      ],
      "execution_count": null,
      "outputs": []
    },
    {
      "cell_type": "code",
      "metadata": {
        "id": "DLsQktkGqiF4"
      },
      "source": [
        "import wget"
      ],
      "execution_count": null,
      "outputs": []
    },
    {
      "cell_type": "code",
      "metadata": {
        "id": "ubaeOj2b5RZA"
      },
      "source": [
        "# Extract all images from a list of accounts specified for covid related data\n",
        "db_file = open(work_dir + \"TweetID_Gen_Auto.csv\", \"r\")  \n",
        "db_file.readline()\n",
        "id_name_lists = list()\n",
        "for item in db_file.readlines():\n",
        "  id_name_lists.append(item.split(', ')[0])\n",
        "#pull tweets from specific user. In userID, just put the page's username\n",
        "for idd_nm in id_name_lists:\n",
        "  while True:\n",
        "    tweets = api.user_timeline(screen_name=idd_nm, \n",
        "                           # 200 is the maximum allowed count\n",
        "                           count=200,\n",
        "                           include_rts = False,\n",
        "                           max_id = oldest_id - 1,\n",
        "                           # Necessary to keep full_text \n",
        "                           # otherwise only the first 140 words are extracted\n",
        "                           tweet_mode = 'extended'\n",
        "                           )\n",
        "    \n",
        "    if len(tweets) == 0:\n",
        "        break\n",
        "    media_files = set()\n",
        "    for status in tweets:\n",
        "      media = status.entities.get('media', [])\n",
        "      if(len(media) > 0):\n",
        "        media_files.add(media[0]['media_url'])\n",
        "\n",
        "    for tweet in tweets:\n",
        "        for media in tweet.entities.get(\"media\",[{}]):\n",
        "            #checks if there is any media-entity\n",
        "            if media.get(\"type\",None) == \"photo\":\n",
        "                # checks if the entity is of the type \"photo\"\n",
        "                # save to file etc.\n",
        "                wget.download(media[\"media_url\"],out=\"/content/down1/\")\n",
        "                #download(image_content, \"/content/ukk\")\n",
        "    oldest_id = tweets[-1].id\n",
        "    all_tweets.extend(tweets)\n",
        "    print('N of tweets downloaded till now {}'.format(len(all_tweets)))"
      ],
      "execution_count": null,
      "outputs": []
    },
    {
      "cell_type": "code",
      "metadata": {
        "id": "L0SzECftIjlf"
      },
      "source": [
        "# directory in which we will save the images\n",
        "!mkdir /content/down1/"
      ],
      "execution_count": null,
      "outputs": []
    },
    {
      "cell_type": "code",
      "metadata": {
        "id": "d8FsQm3uR0Jl"
      },
      "source": [
        "# Extract all images from an account specified for covid related data\n",
        "acc_nam = \"itsFlo\"\n",
        "\n",
        "all_tweets = []\n",
        "# Authorize our Twitter credentials\n",
        "auth = tweepy.OAuthHandler(consumer_key, consumer_secret)\n",
        "auth.set_access_token(access_token, access_token_secret)\n",
        "api = tweepy.API(auth)\n",
        "#oldest_id = tweets[-1].id\n",
        "while True:\n",
        "    tweets = api.user_timeline(screen_name=acc_nam, \n",
        "                           # 200 is the maximum allowed count\n",
        "                           count=200,\n",
        "                           include_rts = False,\n",
        "                           max_id = oldest_id - 1,\n",
        "                           # Necessary to keep full_text \n",
        "                           # otherwise only the first 140 words are extracted\n",
        "                           tweet_mode = 'extended'\n",
        "                           )\n",
        "    \n",
        "    if len(tweets) == 0:\n",
        "        break\n",
        "    media_files = set()\n",
        "    for status in tweets:\n",
        "      media = status.entities.get('media', [])\n",
        "      if(len(media) > 0):\n",
        "        media_files.add(media[0]['media_url'])\n",
        "\n",
        "    for tweet in tweets:\n",
        "        for media in tweet.entities.get(\"media\",[{}]):\n",
        "            #checks if there is any media-entity\n",
        "            if media.get(\"type\",None) == \"photo\":\n",
        "                # checks if the entity is of the type \"photo\"\n",
        "                # save to file etc.\n",
        "                wget.download(media[\"media_url\"],out=\"/content/down1/\")\n",
        "                #download(image_content, \"/content/ukk\")\n",
        "    oldest_id = tweets[-1].id\n",
        "    all_tweets.extend(tweets)\n",
        "    print('N of tweets downloaded till now {}'.format(len(all_tweets)))"
      ],
      "execution_count": null,
      "outputs": []
    },
    {
      "cell_type": "markdown",
      "metadata": {
        "id": "MXEMRJFIrCkf"
      },
      "source": [
        "current trend in twitter"
      ]
    },
    {
      "cell_type": "code",
      "metadata": {
        "colab": {
          "base_uri": "https://localhost:8080/"
        },
        "id": "fWKzltwGK0VW",
        "outputId": "eb82cda2-2e22-4f6d-8156-3f2aaf661362"
      },
      "source": [
        "#Python Trend Retreival - Current Tweets\n",
        "# -*- coding: utf-8 -*-\n",
        "import sys\n",
        "import tweepy\n",
        "import json\n",
        "\n",
        "\n",
        "auth = tweepy.OAuthHandler(consumer_key, consumer_secret)\n",
        "auth.set_access_token(access_token, access_token_secret)\n",
        "api = tweepy.API(auth)\n",
        "\n",
        "# Where On Earth ID for Brazil is 23424768.\n",
        "BRAZIL_WOE_ID = 44418\n",
        "\n",
        "brazil_trends = api.trends_place(BRAZIL_WOE_ID)\n",
        "\n",
        "trends = json.loads(json.dumps(brazil_trends, indent=1))\n",
        "\n",
        "for trend in trends[0][\"trends\"]:\n",
        "\t#print (trend[\"name\"]).strip(\"#\")\n",
        "  print(trend['name'])\n"
      ],
      "execution_count": null,
      "outputs": [
        {
          "output_type": "stream",
          "text": [
            "Santander\n",
            "#Wembley\n",
            "MATCH DAY\n",
            "Heidi\n",
            "poots\n",
            "George Square\n",
            "Essex\n",
            "#FACupFinal\n",
            "#HerGameToo\n",
            "#Caturday\n",
            "Matthew Parris\n",
            "Lenny Henry\n",
            "Tinie Tempah\n",
            "Travellers\n",
            "Lavazza\n",
            "Ibrox\n",
            "SAGE\n",
            "Koch\n",
            "Jamesy\n",
            "The Times\n",
            "Royal British Legion\n",
            "Debenhams\n",
            "GAME DAY\n",
            "Burnley v Leeds\n",
            "Bowen\n",
            "Kennedy\n",
            "Up the Chels\n",
            "Foxes\n",
            "Happy Birthday Theo\n",
            "Priti Patel in £20m PPE\n",
            "New Jack\n",
            "Leicester City\n",
            "1st XI\n",
            "Knockout\n",
            "Bangladesh\n",
            "Pablo\n",
            "Armed Forces\n",
            "2nd XI\n",
            "Nish Kumar\n",
            "Raph\n",
            "Palace Pier\n",
            "West Suffolk Hospital\n",
            "Jim Davidson\n",
            "Ramsey\n",
            "Turf Moor\n",
            "Endwalker\n",
            "Ministerial Code\n",
            "Zhurong\n",
            "Heathrow\n"
          ],
          "name": "stdout"
        }
      ]
    }
  ]
}